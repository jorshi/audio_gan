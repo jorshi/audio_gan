{
 "cells": [
  {
   "cell_type": "code",
   "execution_count": 1,
   "metadata": {},
   "outputs": [],
   "source": [
    "import sys\n",
    "sys.path.append(\"../\")\n",
    "\n",
    "import matplotlib.pyplot as plt\n",
    "import numpy as np\n",
    "import tensorflow as tf\n",
    "from dcgan import DCGAN\n",
    "from wpgan import WPGAN\n",
    "\n",
    "import IPython.display as ipd"
   ]
  },
  {
   "cell_type": "markdown",
   "metadata": {},
   "source": [
    "Prepare audio data by creating a single audio channel and normalizing"
   ]
  },
  {
   "cell_type": "code",
   "execution_count": 3,
   "metadata": {},
   "outputs": [
    {
     "ename": "ValueError",
     "evalue": "zero-size array to reduction operation maximum which has no identity",
     "output_type": "error",
     "traceback": [
      "\u001b[0;31m----------------------------------------\u001b[0m",
      "\u001b[0;31mValueError\u001b[0mTraceback (most recent call last)",
      "\u001b[0;32m<ipython-input-3-63810df22187>\u001b[0m in \u001b[0;36m<module>\u001b[0;34m\u001b[0m\n\u001b[1;32m      3\u001b[0m \u001b[0;34m\u001b[0m\u001b[0m\n\u001b[1;32m      4\u001b[0m \u001b[0;31m# Normalize\u001b[0m\u001b[0;34m\u001b[0m\u001b[0;34m\u001b[0m\u001b[0;34m\u001b[0m\u001b[0m\n\u001b[0;32m----> 5\u001b[0;31m \u001b[0mpeak\u001b[0m \u001b[0;34m=\u001b[0m \u001b[0mmax\u001b[0m\u001b[0;34m(\u001b[0m\u001b[0mabs\u001b[0m\u001b[0;34m(\u001b[0m\u001b[0mdata\u001b[0m\u001b[0;34m.\u001b[0m\u001b[0mmax\u001b[0m\u001b[0;34m(\u001b[0m\u001b[0;34m)\u001b[0m\u001b[0;34m)\u001b[0m\u001b[0;34m,\u001b[0m \u001b[0mabs\u001b[0m\u001b[0;34m(\u001b[0m\u001b[0mdata\u001b[0m\u001b[0;34m.\u001b[0m\u001b[0mmin\u001b[0m\u001b[0;34m(\u001b[0m\u001b[0;34m)\u001b[0m\u001b[0;34m)\u001b[0m\u001b[0;34m)\u001b[0m\u001b[0;34m\u001b[0m\u001b[0;34m\u001b[0m\u001b[0m\n\u001b[0m\u001b[1;32m      6\u001b[0m \u001b[0mdata\u001b[0m \u001b[0;34m/=\u001b[0m \u001b[0mpeak\u001b[0m\u001b[0;34m\u001b[0m\u001b[0;34m\u001b[0m\u001b[0m\n\u001b[1;32m      7\u001b[0m \u001b[0;34m\u001b[0m\u001b[0m\n",
      "\u001b[0;32m~/.local/lib/python3.8/site-packages/numpy/core/_methods.py\u001b[0m in \u001b[0;36m_amax\u001b[0;34m(a, axis, out, keepdims, initial, where)\u001b[0m\n\u001b[1;32m     28\u001b[0m def _amax(a, axis=None, out=None, keepdims=False,\n\u001b[1;32m     29\u001b[0m           initial=_NoValue, where=True):\n\u001b[0;32m---> 30\u001b[0;31m     \u001b[0;32mreturn\u001b[0m \u001b[0mumr_maximum\u001b[0m\u001b[0;34m(\u001b[0m\u001b[0ma\u001b[0m\u001b[0;34m,\u001b[0m \u001b[0maxis\u001b[0m\u001b[0;34m,\u001b[0m \u001b[0;32mNone\u001b[0m\u001b[0;34m,\u001b[0m \u001b[0mout\u001b[0m\u001b[0;34m,\u001b[0m \u001b[0mkeepdims\u001b[0m\u001b[0;34m,\u001b[0m \u001b[0minitial\u001b[0m\u001b[0;34m,\u001b[0m \u001b[0mwhere\u001b[0m\u001b[0;34m)\u001b[0m\u001b[0;34m\u001b[0m\u001b[0;34m\u001b[0m\u001b[0m\n\u001b[0m\u001b[1;32m     31\u001b[0m \u001b[0;34m\u001b[0m\u001b[0m\n\u001b[1;32m     32\u001b[0m def _amin(a, axis=None, out=None, keepdims=False,\n",
      "\u001b[0;31mValueError\u001b[0m: zero-size array to reduction operation maximum which has no identity"
     ]
    }
   ],
   "source": [
    "snares = np.load(\"../data/snares.npy\")\n",
    "data = snares.reshape(snares.shape[0], 16384, 1).astype('float32')\n",
    "\n",
    "# Normalize\n",
    "peak = max(abs(data.max()), abs(data.min()))\n",
    "data /= peak\n",
    "\n",
    "dataset = tf.data.Dataset.from_tensor_slices(data).shuffle(len(data)).batch(64)"
   ]
  },
  {
   "cell_type": "code",
   "execution_count": 3,
   "metadata": {},
   "outputs": [
    {
     "name": "stderr",
     "output_type": "stream",
     "text": [
      "100%|██████████| 35/35 [00:25<00:00,  1.36it/s]\n",
      "  3%|▎         | 1/35 [00:00<00:04,  7.43it/s]"
     ]
    },
    {
     "name": "stdout",
     "output_type": "stream",
     "text": [
      "Epoch 0, Discriminator Loss: 0.008980204351246357, Generator Loss: 5.3225226402282715\n"
     ]
    },
    {
     "name": "stderr",
     "output_type": "stream",
     "text": [
      "100%|██████████| 35/35 [00:13<00:00,  2.53it/s]\n",
      "  3%|▎         | 1/35 [00:00<00:04,  7.83it/s]"
     ]
    },
    {
     "name": "stdout",
     "output_type": "stream",
     "text": [
      "Epoch 1, Discriminator Loss: 0.0004465979291126132, Generator Loss: 10.547981262207031\n"
     ]
    },
    {
     "name": "stderr",
     "output_type": "stream",
     "text": [
      "100%|██████████| 35/35 [00:13<00:00,  2.53it/s]\n",
      "  3%|▎         | 1/35 [00:00<00:04,  7.83it/s]"
     ]
    },
    {
     "name": "stdout",
     "output_type": "stream",
     "text": [
      "Epoch 2, Discriminator Loss: 0.0016447084490209818, Generator Loss: 6.929374694824219\n"
     ]
    },
    {
     "name": "stderr",
     "output_type": "stream",
     "text": [
      "100%|██████████| 35/35 [00:13<00:00,  2.52it/s]\n",
      "  3%|▎         | 1/35 [00:00<00:04,  7.89it/s]"
     ]
    },
    {
     "name": "stdout",
     "output_type": "stream",
     "text": [
      "Epoch 3, Discriminator Loss: 0.00637256633490324, Generator Loss: 7.583376884460449\n"
     ]
    },
    {
     "name": "stderr",
     "output_type": "stream",
     "text": [
      "100%|██████████| 35/35 [00:13<00:00,  2.52it/s]\n",
      "  3%|▎         | 1/35 [00:00<00:04,  7.72it/s]"
     ]
    },
    {
     "name": "stdout",
     "output_type": "stream",
     "text": [
      "Epoch 4, Discriminator Loss: 0.0032823579385876656, Generator Loss: 6.298041820526123\n"
     ]
    },
    {
     "name": "stderr",
     "output_type": "stream",
     "text": [
      "100%|██████████| 35/35 [00:13<00:00,  2.51it/s]\n",
      "  3%|▎         | 1/35 [00:00<00:04,  7.83it/s]"
     ]
    },
    {
     "name": "stdout",
     "output_type": "stream",
     "text": [
      "Epoch 5, Discriminator Loss: 0.0050683580338954926, Generator Loss: 5.331643581390381\n"
     ]
    },
    {
     "name": "stderr",
     "output_type": "stream",
     "text": [
      "100%|██████████| 35/35 [00:13<00:00,  2.51it/s]\n",
      "  3%|▎         | 1/35 [00:00<00:04,  7.71it/s]"
     ]
    },
    {
     "name": "stdout",
     "output_type": "stream",
     "text": [
      "Epoch 6, Discriminator Loss: 0.12109240144491196, Generator Loss: 3.2735114097595215\n"
     ]
    },
    {
     "name": "stderr",
     "output_type": "stream",
     "text": [
      "100%|██████████| 35/35 [00:13<00:00,  2.51it/s]\n",
      "  3%|▎         | 1/35 [00:00<00:04,  7.71it/s]"
     ]
    },
    {
     "name": "stdout",
     "output_type": "stream",
     "text": [
      "Epoch 7, Discriminator Loss: 0.18214654922485352, Generator Loss: 4.101329326629639\n"
     ]
    },
    {
     "name": "stderr",
     "output_type": "stream",
     "text": [
      "100%|██████████| 35/35 [00:13<00:00,  2.51it/s]\n",
      "  3%|▎         | 1/35 [00:00<00:04,  7.77it/s]"
     ]
    },
    {
     "name": "stdout",
     "output_type": "stream",
     "text": [
      "Epoch 8, Discriminator Loss: 0.11785900592803955, Generator Loss: 3.0477445125579834\n"
     ]
    },
    {
     "name": "stderr",
     "output_type": "stream",
     "text": [
      "100%|██████████| 35/35 [00:13<00:00,  2.51it/s]\n",
      "  3%|▎         | 1/35 [00:00<00:04,  7.71it/s]"
     ]
    },
    {
     "name": "stdout",
     "output_type": "stream",
     "text": [
      "Epoch 9, Discriminator Loss: 0.06487223505973816, Generator Loss: 4.866001605987549\n"
     ]
    },
    {
     "name": "stderr",
     "output_type": "stream",
     "text": [
      "100%|██████████| 35/35 [00:13<00:00,  2.50it/s]\n",
      "  3%|▎         | 1/35 [00:00<00:04,  7.65it/s]"
     ]
    },
    {
     "name": "stdout",
     "output_type": "stream",
     "text": [
      "Epoch 10, Discriminator Loss: 0.008259609341621399, Generator Loss: 5.753246307373047\n"
     ]
    },
    {
     "name": "stderr",
     "output_type": "stream",
     "text": [
      "100%|██████████| 35/35 [00:13<00:00,  2.50it/s]\n",
      "  3%|▎         | 1/35 [00:00<00:04,  7.59it/s]"
     ]
    },
    {
     "name": "stdout",
     "output_type": "stream",
     "text": [
      "Epoch 11, Discriminator Loss: 0.289949893951416, Generator Loss: 5.305592060089111\n"
     ]
    },
    {
     "name": "stderr",
     "output_type": "stream",
     "text": [
      "100%|██████████| 35/35 [00:13<00:00,  2.50it/s]\n",
      "  3%|▎         | 1/35 [00:00<00:04,  7.55it/s]"
     ]
    },
    {
     "name": "stdout",
     "output_type": "stream",
     "text": [
      "Epoch 12, Discriminator Loss: 0.0044536348432302475, Generator Loss: 6.398685455322266\n"
     ]
    },
    {
     "name": "stderr",
     "output_type": "stream",
     "text": [
      "100%|██████████| 35/35 [00:13<00:00,  2.50it/s]\n",
      "  3%|▎         | 1/35 [00:00<00:04,  8.09it/s]"
     ]
    },
    {
     "name": "stdout",
     "output_type": "stream",
     "text": [
      "Epoch 13, Discriminator Loss: 0.005529206246137619, Generator Loss: 5.301872253417969\n"
     ]
    },
    {
     "name": "stderr",
     "output_type": "stream",
     "text": [
      "100%|██████████| 35/35 [00:13<00:00,  2.50it/s]\n",
      "  3%|▎         | 1/35 [00:00<00:04,  7.77it/s]"
     ]
    },
    {
     "name": "stdout",
     "output_type": "stream",
     "text": [
      "Epoch 14, Discriminator Loss: 0.034802936017513275, Generator Loss: 5.5053815841674805\n"
     ]
    },
    {
     "name": "stderr",
     "output_type": "stream",
     "text": [
      "100%|██████████| 35/35 [00:13<00:00,  2.50it/s]\n",
      "  3%|▎         | 1/35 [00:00<00:04,  8.28it/s]"
     ]
    },
    {
     "name": "stdout",
     "output_type": "stream",
     "text": [
      "Epoch 15, Discriminator Loss: 0.048666976392269135, Generator Loss: 6.103873252868652\n"
     ]
    },
    {
     "name": "stderr",
     "output_type": "stream",
     "text": [
      "100%|██████████| 35/35 [00:13<00:00,  2.50it/s]\n",
      "  3%|▎         | 1/35 [00:00<00:04,  8.15it/s]"
     ]
    },
    {
     "name": "stdout",
     "output_type": "stream",
     "text": [
      "Epoch 16, Discriminator Loss: 0.0055720810778439045, Generator Loss: 6.401196479797363\n"
     ]
    },
    {
     "name": "stderr",
     "output_type": "stream",
     "text": [
      "100%|██████████| 35/35 [00:14<00:00,  2.48it/s]\n",
      "  3%|▎         | 1/35 [00:00<00:04,  8.34it/s]"
     ]
    },
    {
     "name": "stdout",
     "output_type": "stream",
     "text": [
      "Epoch 17, Discriminator Loss: 0.00021684331295546144, Generator Loss: 8.804367065429688\n"
     ]
    },
    {
     "name": "stderr",
     "output_type": "stream",
     "text": [
      "100%|██████████| 35/35 [00:13<00:00,  2.50it/s]\n",
      "  3%|▎         | 1/35 [00:00<00:04,  8.29it/s]"
     ]
    },
    {
     "name": "stdout",
     "output_type": "stream",
     "text": [
      "Epoch 18, Discriminator Loss: 0.016772108152508736, Generator Loss: 4.957822322845459\n"
     ]
    },
    {
     "name": "stderr",
     "output_type": "stream",
     "text": [
      "100%|██████████| 35/35 [00:13<00:00,  2.50it/s]\n",
      "  3%|▎         | 1/35 [00:00<00:04,  7.54it/s]"
     ]
    },
    {
     "name": "stdout",
     "output_type": "stream",
     "text": [
      "Epoch 19, Discriminator Loss: 0.04213817045092583, Generator Loss: 5.410732269287109\n"
     ]
    },
    {
     "name": "stderr",
     "output_type": "stream",
     "text": [
      "100%|██████████| 35/35 [00:14<00:00,  2.50it/s]\n",
      "  3%|▎         | 1/35 [00:00<00:04,  8.22it/s]"
     ]
    },
    {
     "name": "stdout",
     "output_type": "stream",
     "text": [
      "Epoch 20, Discriminator Loss: 0.0008233244880102575, Generator Loss: 9.47074031829834\n"
     ]
    },
    {
     "name": "stderr",
     "output_type": "stream",
     "text": [
      "100%|██████████| 35/35 [00:14<00:00,  2.49it/s]\n",
      "  3%|▎         | 1/35 [00:00<00:04,  8.36it/s]"
     ]
    },
    {
     "name": "stdout",
     "output_type": "stream",
     "text": [
      "Epoch 21, Discriminator Loss: 0.023635463789105415, Generator Loss: 4.29133415222168\n"
     ]
    },
    {
     "name": "stderr",
     "output_type": "stream",
     "text": [
      "100%|██████████| 35/35 [00:14<00:00,  2.48it/s]\n",
      "  3%|▎         | 1/35 [00:00<00:04,  8.22it/s]"
     ]
    },
    {
     "name": "stdout",
     "output_type": "stream",
     "text": [
      "Epoch 22, Discriminator Loss: 0.006111740134656429, Generator Loss: 5.479337692260742\n"
     ]
    },
    {
     "name": "stderr",
     "output_type": "stream",
     "text": [
      "100%|██████████| 35/35 [00:14<00:00,  2.49it/s]\n",
      "  3%|▎         | 1/35 [00:00<00:04,  8.50it/s]"
     ]
    },
    {
     "name": "stdout",
     "output_type": "stream",
     "text": [
      "Epoch 23, Discriminator Loss: 0.006333025638014078, Generator Loss: 5.239970684051514\n"
     ]
    },
    {
     "name": "stderr",
     "output_type": "stream",
     "text": [
      "100%|██████████| 35/35 [00:14<00:00,  2.49it/s]\n",
      "  3%|▎         | 1/35 [00:00<00:04,  7.65it/s]"
     ]
    },
    {
     "name": "stdout",
     "output_type": "stream",
     "text": [
      "Epoch 24, Discriminator Loss: 0.0027660478372126818, Generator Loss: 6.36439323425293\n"
     ]
    },
    {
     "name": "stderr",
     "output_type": "stream",
     "text": [
      "100%|██████████| 35/35 [00:14<00:00,  2.47it/s]\n",
      "  3%|▎         | 1/35 [00:00<00:04,  8.42it/s]"
     ]
    },
    {
     "name": "stdout",
     "output_type": "stream",
     "text": [
      "Epoch 25, Discriminator Loss: 0.0038688534405082464, Generator Loss: 5.3846659660339355\n"
     ]
    },
    {
     "name": "stderr",
     "output_type": "stream",
     "text": [
      "100%|██████████| 35/35 [00:14<00:00,  2.49it/s]\n",
      "  3%|▎         | 1/35 [00:00<00:04,  8.50it/s]"
     ]
    },
    {
     "name": "stdout",
     "output_type": "stream",
     "text": [
      "Epoch 26, Discriminator Loss: 0.686444878578186, Generator Loss: 4.101264476776123\n"
     ]
    },
    {
     "name": "stderr",
     "output_type": "stream",
     "text": [
      "100%|██████████| 35/35 [00:14<00:00,  2.50it/s]\n",
      "  3%|▎         | 1/35 [00:00<00:04,  8.32it/s]"
     ]
    },
    {
     "name": "stdout",
     "output_type": "stream",
     "text": [
      "Epoch 27, Discriminator Loss: 0.015523917973041534, Generator Loss: 7.203277587890625\n"
     ]
    },
    {
     "name": "stderr",
     "output_type": "stream",
     "text": [
      "100%|██████████| 35/35 [00:14<00:00,  2.49it/s]\n",
      "  3%|▎         | 1/35 [00:00<00:04,  8.50it/s]"
     ]
    },
    {
     "name": "stdout",
     "output_type": "stream",
     "text": [
      "Epoch 28, Discriminator Loss: 0.023187967017292976, Generator Loss: 10.172757148742676\n"
     ]
    },
    {
     "name": "stderr",
     "output_type": "stream",
     "text": [
      "100%|██████████| 35/35 [00:14<00:00,  2.50it/s]\n",
      "  3%|▎         | 1/35 [00:00<00:04,  8.35it/s]"
     ]
    },
    {
     "name": "stdout",
     "output_type": "stream",
     "text": [
      "Epoch 29, Discriminator Loss: 0.43012121319770813, Generator Loss: 4.253523349761963\n"
     ]
    },
    {
     "name": "stderr",
     "output_type": "stream",
     "text": [
      "100%|██████████| 35/35 [00:14<00:00,  2.50it/s]\n",
      "  3%|▎         | 1/35 [00:00<00:04,  8.35it/s]"
     ]
    },
    {
     "name": "stdout",
     "output_type": "stream",
     "text": [
      "Epoch 30, Discriminator Loss: 0.252176970243454, Generator Loss: 6.3894362449646\n"
     ]
    },
    {
     "name": "stderr",
     "output_type": "stream",
     "text": [
      "100%|██████████| 35/35 [00:14<00:00,  2.50it/s]\n",
      "  3%|▎         | 1/35 [00:00<00:04,  8.50it/s]"
     ]
    },
    {
     "name": "stdout",
     "output_type": "stream",
     "text": [
      "Epoch 31, Discriminator Loss: 0.8148829340934753, Generator Loss: 7.368749141693115\n"
     ]
    },
    {
     "name": "stderr",
     "output_type": "stream",
     "text": [
      "100%|██████████| 35/35 [00:14<00:00,  2.50it/s]\n",
      "  3%|▎         | 1/35 [00:00<00:03,  8.57it/s]"
     ]
    },
    {
     "name": "stdout",
     "output_type": "stream",
     "text": [
      "Epoch 32, Discriminator Loss: 0.21508610248565674, Generator Loss: 7.225714206695557\n"
     ]
    },
    {
     "name": "stderr",
     "output_type": "stream",
     "text": [
      "100%|██████████| 35/35 [00:14<00:00,  2.50it/s]\n",
      "  3%|▎         | 1/35 [00:00<00:04,  8.42it/s]"
     ]
    },
    {
     "name": "stdout",
     "output_type": "stream",
     "text": [
      "Epoch 33, Discriminator Loss: 0.09183589369058609, Generator Loss: 5.407541751861572\n"
     ]
    },
    {
     "name": "stderr",
     "output_type": "stream",
     "text": [
      "100%|██████████| 35/35 [00:14<00:00,  2.50it/s]\n",
      "  3%|▎         | 1/35 [00:00<00:04,  8.50it/s]"
     ]
    },
    {
     "name": "stdout",
     "output_type": "stream",
     "text": [
      "Epoch 34, Discriminator Loss: 0.0021334425546228886, Generator Loss: 8.643155097961426\n"
     ]
    },
    {
     "name": "stderr",
     "output_type": "stream",
     "text": [
      "100%|██████████| 35/35 [00:14<00:00,  2.50it/s]\n",
      "  3%|▎         | 1/35 [00:00<00:04,  8.43it/s]"
     ]
    },
    {
     "name": "stdout",
     "output_type": "stream",
     "text": [
      "Epoch 35, Discriminator Loss: 0.2821926474571228, Generator Loss: 8.034266471862793\n"
     ]
    },
    {
     "name": "stderr",
     "output_type": "stream",
     "text": [
      "100%|██████████| 35/35 [00:14<00:00,  2.49it/s]\n",
      "  3%|▎         | 1/35 [00:00<00:04,  8.36it/s]"
     ]
    },
    {
     "name": "stdout",
     "output_type": "stream",
     "text": [
      "Epoch 36, Discriminator Loss: 1.3681530952453613, Generator Loss: 5.641558647155762\n"
     ]
    },
    {
     "name": "stderr",
     "output_type": "stream",
     "text": [
      "100%|██████████| 35/35 [00:14<00:00,  2.50it/s]\n",
      "  3%|▎         | 1/35 [00:00<00:04,  8.49it/s]"
     ]
    },
    {
     "name": "stdout",
     "output_type": "stream",
     "text": [
      "Epoch 37, Discriminator Loss: 0.05225496366620064, Generator Loss: 7.064399719238281\n"
     ]
    },
    {
     "name": "stderr",
     "output_type": "stream",
     "text": [
      "100%|██████████| 35/35 [00:14<00:00,  2.50it/s]\n",
      "  3%|▎         | 1/35 [00:00<00:03,  8.57it/s]"
     ]
    },
    {
     "name": "stdout",
     "output_type": "stream",
     "text": [
      "Epoch 38, Discriminator Loss: 0.04205067828297615, Generator Loss: 9.312726974487305\n"
     ]
    },
    {
     "name": "stderr",
     "output_type": "stream",
     "text": [
      "100%|██████████| 35/35 [00:14<00:00,  2.50it/s]\n",
      "  3%|▎         | 1/35 [00:00<00:03,  8.57it/s]"
     ]
    },
    {
     "name": "stdout",
     "output_type": "stream",
     "text": [
      "Epoch 39, Discriminator Loss: 0.03384506329894066, Generator Loss: 7.217136383056641\n"
     ]
    },
    {
     "name": "stderr",
     "output_type": "stream",
     "text": [
      "100%|██████████| 35/35 [00:14<00:00,  2.50it/s]\n",
      "  3%|▎         | 1/35 [00:00<00:03,  8.57it/s]"
     ]
    },
    {
     "name": "stdout",
     "output_type": "stream",
     "text": [
      "Epoch 40, Discriminator Loss: 0.06081191450357437, Generator Loss: 9.168220520019531\n"
     ]
    },
    {
     "name": "stderr",
     "output_type": "stream",
     "text": [
      "100%|██████████| 35/35 [00:14<00:00,  2.50it/s]\n",
      "  3%|▎         | 1/35 [00:00<00:03,  8.64it/s]"
     ]
    },
    {
     "name": "stdout",
     "output_type": "stream",
     "text": [
      "Epoch 41, Discriminator Loss: 0.11382826417684555, Generator Loss: 6.811356544494629\n"
     ]
    },
    {
     "name": "stderr",
     "output_type": "stream",
     "text": [
      "100%|██████████| 35/35 [00:14<00:00,  2.50it/s]\n",
      "  3%|▎         | 1/35 [00:00<00:03,  8.64it/s]"
     ]
    },
    {
     "name": "stdout",
     "output_type": "stream",
     "text": [
      "Epoch 42, Discriminator Loss: 0.029347235336899757, Generator Loss: 6.893667697906494\n"
     ]
    },
    {
     "name": "stderr",
     "output_type": "stream",
     "text": [
      "100%|██████████| 35/35 [00:14<00:00,  2.50it/s]\n",
      "  3%|▎         | 1/35 [00:00<00:04,  8.43it/s]"
     ]
    },
    {
     "name": "stdout",
     "output_type": "stream",
     "text": [
      "Epoch 43, Discriminator Loss: 0.062087029218673706, Generator Loss: 8.524572372436523\n"
     ]
    },
    {
     "name": "stderr",
     "output_type": "stream",
     "text": [
      "100%|██████████| 35/35 [00:14<00:00,  2.49it/s]\n",
      "  3%|▎         | 1/35 [00:00<00:04,  8.42it/s]"
     ]
    },
    {
     "name": "stdout",
     "output_type": "stream",
     "text": [
      "Epoch 44, Discriminator Loss: 0.15915751457214355, Generator Loss: 7.6517415046691895\n"
     ]
    },
    {
     "name": "stderr",
     "output_type": "stream",
     "text": [
      "100%|██████████| 35/35 [00:14<00:00,  2.50it/s]\n",
      "  3%|▎         | 1/35 [00:00<00:04,  8.50it/s]"
     ]
    },
    {
     "name": "stdout",
     "output_type": "stream",
     "text": [
      "Epoch 45, Discriminator Loss: 0.1026860922574997, Generator Loss: 6.921959400177002\n"
     ]
    },
    {
     "name": "stderr",
     "output_type": "stream",
     "text": [
      "100%|██████████| 35/35 [00:14<00:00,  2.50it/s]\n",
      "  3%|▎         | 1/35 [00:00<00:03,  8.57it/s]"
     ]
    },
    {
     "name": "stdout",
     "output_type": "stream",
     "text": [
      "Epoch 46, Discriminator Loss: 0.13771049678325653, Generator Loss: 9.502540588378906\n"
     ]
    },
    {
     "name": "stderr",
     "output_type": "stream",
     "text": [
      "100%|██████████| 35/35 [00:14<00:00,  2.49it/s]\n",
      "  3%|▎         | 1/35 [00:00<00:03,  8.57it/s]"
     ]
    },
    {
     "name": "stdout",
     "output_type": "stream",
     "text": [
      "Epoch 47, Discriminator Loss: 0.0001392805716022849, Generator Loss: 14.49444580078125\n"
     ]
    },
    {
     "name": "stderr",
     "output_type": "stream",
     "text": [
      "100%|██████████| 35/35 [00:14<00:00,  2.45it/s]\n",
      "  3%|▎         | 1/35 [00:00<00:04,  8.50it/s]"
     ]
    },
    {
     "name": "stdout",
     "output_type": "stream",
     "text": [
      "Epoch 48, Discriminator Loss: 0.0023315323051065207, Generator Loss: 9.878222465515137\n"
     ]
    },
    {
     "name": "stderr",
     "output_type": "stream",
     "text": [
      "100%|██████████| 35/35 [00:14<00:00,  2.49it/s]\n",
      "  3%|▎         | 1/35 [00:00<00:04,  8.50it/s]"
     ]
    },
    {
     "name": "stdout",
     "output_type": "stream",
     "text": [
      "Epoch 49, Discriminator Loss: 0.018768660724163055, Generator Loss: 8.16153335571289\n"
     ]
    },
    {
     "name": "stderr",
     "output_type": "stream",
     "text": [
      "100%|██████████| 35/35 [00:14<00:00,  2.48it/s]\n",
      "  3%|▎         | 1/35 [00:00<00:04,  8.42it/s]"
     ]
    },
    {
     "name": "stdout",
     "output_type": "stream",
     "text": [
      "Epoch 50, Discriminator Loss: 0.5714920163154602, Generator Loss: 5.568662166595459\n"
     ]
    },
    {
     "name": "stderr",
     "output_type": "stream",
     "text": [
      "100%|██████████| 35/35 [00:14<00:00,  2.46it/s]\n",
      "  3%|▎         | 1/35 [00:00<00:03,  8.56it/s]"
     ]
    },
    {
     "name": "stdout",
     "output_type": "stream",
     "text": [
      "Epoch 51, Discriminator Loss: 0.01744074374437332, Generator Loss: 5.9271159172058105\n"
     ]
    },
    {
     "name": "stderr",
     "output_type": "stream",
     "text": [
      "100%|██████████| 35/35 [00:14<00:00,  2.45it/s]\n",
      "  3%|▎         | 1/35 [00:00<00:03,  8.57it/s]"
     ]
    },
    {
     "name": "stdout",
     "output_type": "stream",
     "text": [
      "Epoch 52, Discriminator Loss: 2.1201343536376953, Generator Loss: 6.231281757354736\n"
     ]
    },
    {
     "name": "stderr",
     "output_type": "stream",
     "text": [
      "100%|██████████| 35/35 [00:14<00:00,  2.49it/s]\n",
      "  3%|▎         | 1/35 [00:00<00:04,  8.36it/s]"
     ]
    },
    {
     "name": "stdout",
     "output_type": "stream",
     "text": [
      "Epoch 53, Discriminator Loss: 0.0032848429400473833, Generator Loss: 8.110147476196289\n"
     ]
    },
    {
     "name": "stderr",
     "output_type": "stream",
     "text": [
      "100%|██████████| 35/35 [00:14<00:00,  2.49it/s]\n",
      "  3%|▎         | 1/35 [00:00<00:04,  8.50it/s]"
     ]
    },
    {
     "name": "stdout",
     "output_type": "stream",
     "text": [
      "Epoch 54, Discriminator Loss: 0.1424275040626526, Generator Loss: 5.664811611175537\n"
     ]
    },
    {
     "name": "stderr",
     "output_type": "stream",
     "text": [
      "100%|██████████| 35/35 [00:14<00:00,  2.44it/s]\n",
      "  3%|▎         | 1/35 [00:00<00:04,  8.42it/s]"
     ]
    },
    {
     "name": "stdout",
     "output_type": "stream",
     "text": [
      "Epoch 55, Discriminator Loss: 0.0022222816478461027, Generator Loss: 10.199395179748535\n"
     ]
    },
    {
     "name": "stderr",
     "output_type": "stream",
     "text": [
      "100%|██████████| 35/35 [00:14<00:00,  2.41it/s]\n",
      "  3%|▎         | 1/35 [00:00<00:03,  8.64it/s]"
     ]
    },
    {
     "name": "stdout",
     "output_type": "stream",
     "text": [
      "Epoch 56, Discriminator Loss: 0.008926688693463802, Generator Loss: 6.946203708648682\n"
     ]
    },
    {
     "name": "stderr",
     "output_type": "stream",
     "text": [
      "100%|██████████| 35/35 [00:14<00:00,  2.40it/s]\n",
      "  3%|▎         | 1/35 [00:00<00:03,  8.57it/s]"
     ]
    },
    {
     "name": "stdout",
     "output_type": "stream",
     "text": [
      "Epoch 57, Discriminator Loss: 0.0224627573043108, Generator Loss: 7.589737892150879\n"
     ]
    },
    {
     "name": "stderr",
     "output_type": "stream",
     "text": [
      "100%|██████████| 35/35 [00:14<00:00,  2.38it/s]\n",
      "  3%|▎         | 1/35 [00:00<00:03,  8.60it/s]"
     ]
    },
    {
     "name": "stdout",
     "output_type": "stream",
     "text": [
      "Epoch 58, Discriminator Loss: 0.14637722074985504, Generator Loss: 4.534278869628906\n"
     ]
    },
    {
     "name": "stderr",
     "output_type": "stream",
     "text": [
      "100%|██████████| 35/35 [00:14<00:00,  2.46it/s]\n",
      "  3%|▎         | 1/35 [00:00<00:04,  8.50it/s]"
     ]
    },
    {
     "name": "stdout",
     "output_type": "stream",
     "text": [
      "Epoch 59, Discriminator Loss: 0.0431441031396389, Generator Loss: 9.348800659179688\n"
     ]
    },
    {
     "name": "stderr",
     "output_type": "stream",
     "text": [
      "100%|██████████| 35/35 [00:14<00:00,  2.44it/s]\n",
      "  3%|▎         | 1/35 [00:00<00:03,  8.64it/s]"
     ]
    },
    {
     "name": "stdout",
     "output_type": "stream",
     "text": [
      "Epoch 60, Discriminator Loss: 0.0008626054041087627, Generator Loss: 11.256098747253418\n"
     ]
    },
    {
     "name": "stderr",
     "output_type": "stream",
     "text": [
      "100%|██████████| 35/35 [00:14<00:00,  2.41it/s]\n",
      "  3%|▎         | 1/35 [00:00<00:04,  8.22it/s]"
     ]
    },
    {
     "name": "stdout",
     "output_type": "stream",
     "text": [
      "Epoch 61, Discriminator Loss: 0.03793805092573166, Generator Loss: 8.920394897460938\n"
     ]
    },
    {
     "name": "stderr",
     "output_type": "stream",
     "text": [
      "100%|██████████| 35/35 [00:14<00:00,  2.40it/s]\n",
      "  3%|▎         | 1/35 [00:00<00:03,  8.57it/s]"
     ]
    },
    {
     "name": "stdout",
     "output_type": "stream",
     "text": [
      "Epoch 62, Discriminator Loss: 0.30409836769104004, Generator Loss: 5.55202579498291\n"
     ]
    },
    {
     "name": "stderr",
     "output_type": "stream",
     "text": [
      "100%|██████████| 35/35 [00:14<00:00,  2.37it/s]\n",
      "  3%|▎         | 1/35 [00:00<00:03,  8.52it/s]"
     ]
    },
    {
     "name": "stdout",
     "output_type": "stream",
     "text": [
      "Epoch 63, Discriminator Loss: 0.32325270771980286, Generator Loss: 3.6023385524749756\n"
     ]
    },
    {
     "name": "stderr",
     "output_type": "stream",
     "text": [
      "100%|██████████| 35/35 [00:14<00:00,  2.42it/s]\n",
      "  3%|▎         | 1/35 [00:00<00:03,  8.72it/s]"
     ]
    },
    {
     "name": "stdout",
     "output_type": "stream",
     "text": [
      "Epoch 64, Discriminator Loss: 0.030242301523685455, Generator Loss: 7.257283687591553\n"
     ]
    },
    {
     "name": "stderr",
     "output_type": "stream",
     "text": [
      "100%|██████████| 35/35 [00:14<00:00,  2.47it/s]\n",
      "  3%|▎         | 1/35 [00:00<00:04,  7.96it/s]"
     ]
    },
    {
     "name": "stdout",
     "output_type": "stream",
     "text": [
      "Epoch 65, Discriminator Loss: 0.0700644999742508, Generator Loss: 12.450640678405762\n"
     ]
    },
    {
     "name": "stderr",
     "output_type": "stream",
     "text": [
      "100%|██████████| 35/35 [00:13<00:00,  2.50it/s]\n",
      "  3%|▎         | 1/35 [00:00<00:04,  8.49it/s]"
     ]
    },
    {
     "name": "stdout",
     "output_type": "stream",
     "text": [
      "Epoch 66, Discriminator Loss: 0.032369084656238556, Generator Loss: 7.872201442718506\n"
     ]
    },
    {
     "name": "stderr",
     "output_type": "stream",
     "text": [
      "100%|██████████| 35/35 [00:14<00:00,  2.49it/s]\n",
      "  3%|▎         | 1/35 [00:00<00:03,  8.80it/s]"
     ]
    },
    {
     "name": "stdout",
     "output_type": "stream",
     "text": [
      "Epoch 67, Discriminator Loss: 0.0516216903924942, Generator Loss: 7.680304050445557\n"
     ]
    },
    {
     "name": "stderr",
     "output_type": "stream",
     "text": [
      "100%|██████████| 35/35 [00:14<00:00,  2.48it/s]\n",
      "  3%|▎         | 1/35 [00:00<00:03,  8.79it/s]"
     ]
    },
    {
     "name": "stdout",
     "output_type": "stream",
     "text": [
      "Epoch 68, Discriminator Loss: 0.019067149609327316, Generator Loss: 9.219599723815918\n"
     ]
    },
    {
     "name": "stderr",
     "output_type": "stream",
     "text": [
      "100%|██████████| 35/35 [00:13<00:00,  2.51it/s]\n",
      "  3%|▎         | 1/35 [00:00<00:03,  8.87it/s]"
     ]
    },
    {
     "name": "stdout",
     "output_type": "stream",
     "text": [
      "Epoch 69, Discriminator Loss: 0.013085577636957169, Generator Loss: 10.2658052444458\n"
     ]
    },
    {
     "name": "stderr",
     "output_type": "stream",
     "text": [
      "100%|██████████| 35/35 [00:13<00:00,  2.51it/s]\n",
      "  3%|▎         | 1/35 [00:00<00:03,  8.72it/s]"
     ]
    },
    {
     "name": "stdout",
     "output_type": "stream",
     "text": [
      "Epoch 70, Discriminator Loss: 0.007213864475488663, Generator Loss: 8.10904312133789\n"
     ]
    },
    {
     "name": "stderr",
     "output_type": "stream",
     "text": [
      "100%|██████████| 35/35 [00:13<00:00,  2.51it/s]\n",
      "  3%|▎         | 1/35 [00:00<00:03,  8.72it/s]"
     ]
    },
    {
     "name": "stdout",
     "output_type": "stream",
     "text": [
      "Epoch 71, Discriminator Loss: 0.3260311782360077, Generator Loss: 4.393572807312012\n"
     ]
    },
    {
     "name": "stderr",
     "output_type": "stream",
     "text": [
      "100%|██████████| 35/35 [00:13<00:00,  2.51it/s]\n",
      "  3%|▎         | 1/35 [00:00<00:03,  8.78it/s]"
     ]
    },
    {
     "name": "stdout",
     "output_type": "stream",
     "text": [
      "Epoch 72, Discriminator Loss: 0.19248704612255096, Generator Loss: 13.161197662353516\n"
     ]
    },
    {
     "name": "stderr",
     "output_type": "stream",
     "text": [
      "100%|██████████| 35/35 [00:13<00:00,  2.51it/s]\n",
      "  3%|▎         | 1/35 [00:00<00:03,  8.79it/s]"
     ]
    },
    {
     "name": "stdout",
     "output_type": "stream",
     "text": [
      "Epoch 73, Discriminator Loss: 0.005878062918782234, Generator Loss: 10.213396072387695\n"
     ]
    },
    {
     "name": "stderr",
     "output_type": "stream",
     "text": [
      "100%|██████████| 35/35 [00:13<00:00,  2.51it/s]\n",
      "  3%|▎         | 1/35 [00:00<00:03,  8.72it/s]"
     ]
    },
    {
     "name": "stdout",
     "output_type": "stream",
     "text": [
      "Epoch 74, Discriminator Loss: 0.0505673885345459, Generator Loss: 10.762663841247559\n"
     ]
    },
    {
     "name": "stderr",
     "output_type": "stream",
     "text": [
      "100%|██████████| 35/35 [00:13<00:00,  2.51it/s]\n",
      "  3%|▎         | 1/35 [00:00<00:03,  8.80it/s]"
     ]
    },
    {
     "name": "stdout",
     "output_type": "stream",
     "text": [
      "Epoch 75, Discriminator Loss: 0.28428569436073303, Generator Loss: 12.041056632995605\n"
     ]
    },
    {
     "name": "stderr",
     "output_type": "stream",
     "text": [
      "100%|██████████| 35/35 [00:13<00:00,  2.51it/s]\n",
      "  3%|▎         | 1/35 [00:00<00:03,  8.57it/s]"
     ]
    },
    {
     "name": "stdout",
     "output_type": "stream",
     "text": [
      "Epoch 76, Discriminator Loss: 0.014855694025754929, Generator Loss: 11.109126091003418\n"
     ]
    },
    {
     "name": "stderr",
     "output_type": "stream",
     "text": [
      "100%|██████████| 35/35 [00:14<00:00,  2.48it/s]\n",
      "  3%|▎         | 1/35 [00:00<00:03,  8.64it/s]"
     ]
    },
    {
     "name": "stdout",
     "output_type": "stream",
     "text": [
      "Epoch 77, Discriminator Loss: 0.010072773322463036, Generator Loss: 6.6714982986450195\n"
     ]
    },
    {
     "name": "stderr",
     "output_type": "stream",
     "text": [
      "100%|██████████| 35/35 [00:14<00:00,  2.48it/s]\n",
      "  3%|▎         | 1/35 [00:00<00:03,  8.79it/s]"
     ]
    },
    {
     "name": "stdout",
     "output_type": "stream",
     "text": [
      "Epoch 78, Discriminator Loss: 0.05409394949674606, Generator Loss: 10.09990406036377\n"
     ]
    },
    {
     "name": "stderr",
     "output_type": "stream",
     "text": [
      "100%|██████████| 35/35 [00:14<00:00,  2.44it/s]\n",
      "  3%|▎         | 1/35 [00:00<00:03,  8.57it/s]"
     ]
    },
    {
     "name": "stdout",
     "output_type": "stream",
     "text": [
      "Epoch 79, Discriminator Loss: 0.0028639112133532763, Generator Loss: 8.016996383666992\n"
     ]
    },
    {
     "name": "stderr",
     "output_type": "stream",
     "text": [
      "100%|██████████| 35/35 [00:14<00:00,  2.49it/s]\n",
      "  3%|▎         | 1/35 [00:00<00:03,  8.64it/s]"
     ]
    },
    {
     "name": "stdout",
     "output_type": "stream",
     "text": [
      "Epoch 80, Discriminator Loss: 0.023870624601840973, Generator Loss: 7.61065673828125\n"
     ]
    },
    {
     "name": "stderr",
     "output_type": "stream",
     "text": [
      "100%|██████████| 35/35 [00:14<00:00,  2.49it/s]\n",
      "  3%|▎         | 1/35 [00:00<00:03,  8.57it/s]"
     ]
    },
    {
     "name": "stdout",
     "output_type": "stream",
     "text": [
      "Epoch 81, Discriminator Loss: 0.07515549659729004, Generator Loss: 9.872136116027832\n"
     ]
    },
    {
     "name": "stderr",
     "output_type": "stream",
     "text": [
      "100%|██████████| 35/35 [00:14<00:00,  2.49it/s]\n",
      "  3%|▎         | 1/35 [00:00<00:03,  8.64it/s]"
     ]
    },
    {
     "name": "stdout",
     "output_type": "stream",
     "text": [
      "Epoch 82, Discriminator Loss: 0.08865396678447723, Generator Loss: 13.407817840576172\n"
     ]
    },
    {
     "name": "stderr",
     "output_type": "stream",
     "text": [
      "100%|██████████| 35/35 [00:14<00:00,  2.49it/s]\n",
      "  3%|▎         | 1/35 [00:00<00:03,  8.72it/s]"
     ]
    },
    {
     "name": "stdout",
     "output_type": "stream",
     "text": [
      "Epoch 83, Discriminator Loss: 0.09534542262554169, Generator Loss: 15.3741455078125\n"
     ]
    },
    {
     "name": "stderr",
     "output_type": "stream",
     "text": [
      "100%|██████████| 35/35 [00:14<00:00,  2.49it/s]\n",
      "  3%|▎         | 1/35 [00:00<00:03,  8.64it/s]"
     ]
    },
    {
     "name": "stdout",
     "output_type": "stream",
     "text": [
      "Epoch 84, Discriminator Loss: 0.0980105772614479, Generator Loss: 10.59426498413086\n"
     ]
    },
    {
     "name": "stderr",
     "output_type": "stream",
     "text": [
      "100%|██████████| 35/35 [00:14<00:00,  2.49it/s]\n",
      "  3%|▎         | 1/35 [00:00<00:03,  8.79it/s]"
     ]
    },
    {
     "name": "stdout",
     "output_type": "stream",
     "text": [
      "Epoch 85, Discriminator Loss: 0.011311141774058342, Generator Loss: 7.405148029327393\n"
     ]
    },
    {
     "name": "stderr",
     "output_type": "stream",
     "text": [
      "100%|██████████| 35/35 [00:14<00:00,  2.49it/s]\n",
      "  3%|▎         | 1/35 [00:00<00:04,  7.32it/s]"
     ]
    },
    {
     "name": "stdout",
     "output_type": "stream",
     "text": [
      "Epoch 86, Discriminator Loss: 0.013490078039467335, Generator Loss: 9.017437934875488\n"
     ]
    },
    {
     "name": "stderr",
     "output_type": "stream",
     "text": [
      "100%|██████████| 35/35 [00:14<00:00,  2.49it/s]\n",
      "  3%|▎         | 1/35 [00:00<00:03,  8.72it/s]"
     ]
    },
    {
     "name": "stdout",
     "output_type": "stream",
     "text": [
      "Epoch 87, Discriminator Loss: 0.13267970085144043, Generator Loss: 16.43982696533203\n"
     ]
    },
    {
     "name": "stderr",
     "output_type": "stream",
     "text": [
      "100%|██████████| 35/35 [00:14<00:00,  2.49it/s]\n",
      "  3%|▎         | 1/35 [00:00<00:03,  8.72it/s]"
     ]
    },
    {
     "name": "stdout",
     "output_type": "stream",
     "text": [
      "Epoch 88, Discriminator Loss: 0.0446305051445961, Generator Loss: 7.138334274291992\n"
     ]
    },
    {
     "name": "stderr",
     "output_type": "stream",
     "text": [
      "100%|██████████| 35/35 [00:14<00:00,  2.49it/s]\n",
      "  3%|▎         | 1/35 [00:00<00:04,  8.42it/s]"
     ]
    },
    {
     "name": "stdout",
     "output_type": "stream",
     "text": [
      "Epoch 89, Discriminator Loss: 0.19023816287517548, Generator Loss: 6.876529693603516\n"
     ]
    },
    {
     "name": "stderr",
     "output_type": "stream",
     "text": [
      "100%|██████████| 35/35 [00:14<00:00,  2.49it/s]\n",
      "  3%|▎         | 1/35 [00:00<00:03,  8.57it/s]"
     ]
    },
    {
     "name": "stdout",
     "output_type": "stream",
     "text": [
      "Epoch 90, Discriminator Loss: 0.07954058051109314, Generator Loss: 8.66822338104248\n"
     ]
    },
    {
     "name": "stderr",
     "output_type": "stream",
     "text": [
      "100%|██████████| 35/35 [00:14<00:00,  2.49it/s]\n",
      "  3%|▎         | 1/35 [00:00<00:03,  8.72it/s]"
     ]
    },
    {
     "name": "stdout",
     "output_type": "stream",
     "text": [
      "Epoch 91, Discriminator Loss: 0.023593563586473465, Generator Loss: 8.201387405395508\n"
     ]
    },
    {
     "name": "stderr",
     "output_type": "stream",
     "text": [
      "100%|██████████| 35/35 [00:14<00:00,  2.49it/s]\n",
      "  3%|▎         | 1/35 [00:00<00:03,  8.72it/s]"
     ]
    },
    {
     "name": "stdout",
     "output_type": "stream",
     "text": [
      "Epoch 92, Discriminator Loss: 0.02560209482908249, Generator Loss: 9.17918586730957\n"
     ]
    },
    {
     "name": "stderr",
     "output_type": "stream",
     "text": [
      "100%|██████████| 35/35 [00:14<00:00,  2.49it/s]\n",
      "  3%|▎         | 1/35 [00:00<00:03,  8.72it/s]"
     ]
    },
    {
     "name": "stdout",
     "output_type": "stream",
     "text": [
      "Epoch 93, Discriminator Loss: 0.04352239891886711, Generator Loss: 10.347113609313965\n"
     ]
    },
    {
     "name": "stderr",
     "output_type": "stream",
     "text": [
      "100%|██████████| 35/35 [00:14<00:00,  2.49it/s]\n",
      "  3%|▎         | 1/35 [00:00<00:03,  8.72it/s]"
     ]
    },
    {
     "name": "stdout",
     "output_type": "stream",
     "text": [
      "Epoch 94, Discriminator Loss: 0.02930646948516369, Generator Loss: 7.764251708984375\n"
     ]
    },
    {
     "name": "stderr",
     "output_type": "stream",
     "text": [
      "100%|██████████| 35/35 [00:14<00:00,  2.49it/s]\n",
      "  3%|▎         | 1/35 [00:00<00:03,  8.72it/s]"
     ]
    },
    {
     "name": "stdout",
     "output_type": "stream",
     "text": [
      "Epoch 95, Discriminator Loss: 0.010212184861302376, Generator Loss: 11.5270414352417\n"
     ]
    },
    {
     "name": "stderr",
     "output_type": "stream",
     "text": [
      "100%|██████████| 35/35 [00:14<00:00,  2.49it/s]\n",
      "  3%|▎         | 1/35 [00:00<00:04,  7.43it/s]"
     ]
    },
    {
     "name": "stdout",
     "output_type": "stream",
     "text": [
      "Epoch 96, Discriminator Loss: 0.163906991481781, Generator Loss: 15.479958534240723\n"
     ]
    },
    {
     "name": "stderr",
     "output_type": "stream",
     "text": [
      "100%|██████████| 35/35 [00:14<00:00,  2.49it/s]\n",
      "  3%|▎         | 1/35 [00:00<00:03,  8.72it/s]"
     ]
    },
    {
     "name": "stdout",
     "output_type": "stream",
     "text": [
      "Epoch 97, Discriminator Loss: 0.08986324816942215, Generator Loss: 9.179804801940918\n"
     ]
    },
    {
     "name": "stderr",
     "output_type": "stream",
     "text": [
      "100%|██████████| 35/35 [00:14<00:00,  2.49it/s]\n",
      "  3%|▎         | 1/35 [00:00<00:03,  8.79it/s]"
     ]
    },
    {
     "name": "stdout",
     "output_type": "stream",
     "text": [
      "Epoch 98, Discriminator Loss: 0.4407970905303955, Generator Loss: 12.134085655212402\n"
     ]
    },
    {
     "name": "stderr",
     "output_type": "stream",
     "text": [
      "100%|██████████| 35/35 [00:14<00:00,  2.49it/s]\n"
     ]
    },
    {
     "name": "stdout",
     "output_type": "stream",
     "text": [
      "Epoch 99, Discriminator Loss: 0.021474095061421394, Generator Loss: 6.8072004318237305\n"
     ]
    },
    {
     "data": {
      "text/plain": [
       "{'disc_loss': [<tf.Tensor: shape=(), dtype=float32, numpy=0.008980204>,\n",
       "  <tf.Tensor: shape=(), dtype=float32, numpy=0.00044659793>,\n",
       "  <tf.Tensor: shape=(), dtype=float32, numpy=0.0016447084>,\n",
       "  <tf.Tensor: shape=(), dtype=float32, numpy=0.0063725663>,\n",
       "  <tf.Tensor: shape=(), dtype=float32, numpy=0.003282358>,\n",
       "  <tf.Tensor: shape=(), dtype=float32, numpy=0.005068358>,\n",
       "  <tf.Tensor: shape=(), dtype=float32, numpy=0.1210924>,\n",
       "  <tf.Tensor: shape=(), dtype=float32, numpy=0.18214655>,\n",
       "  <tf.Tensor: shape=(), dtype=float32, numpy=0.117859006>,\n",
       "  <tf.Tensor: shape=(), dtype=float32, numpy=0.064872235>,\n",
       "  <tf.Tensor: shape=(), dtype=float32, numpy=0.008259609>,\n",
       "  <tf.Tensor: shape=(), dtype=float32, numpy=0.2899499>,\n",
       "  <tf.Tensor: shape=(), dtype=float32, numpy=0.004453635>,\n",
       "  <tf.Tensor: shape=(), dtype=float32, numpy=0.0055292062>,\n",
       "  <tf.Tensor: shape=(), dtype=float32, numpy=0.034802936>,\n",
       "  <tf.Tensor: shape=(), dtype=float32, numpy=0.048666976>,\n",
       "  <tf.Tensor: shape=(), dtype=float32, numpy=0.005572081>,\n",
       "  <tf.Tensor: shape=(), dtype=float32, numpy=0.00021684331>,\n",
       "  <tf.Tensor: shape=(), dtype=float32, numpy=0.016772108>,\n",
       "  <tf.Tensor: shape=(), dtype=float32, numpy=0.04213817>,\n",
       "  <tf.Tensor: shape=(), dtype=float32, numpy=0.0008233245>,\n",
       "  <tf.Tensor: shape=(), dtype=float32, numpy=0.023635464>,\n",
       "  <tf.Tensor: shape=(), dtype=float32, numpy=0.00611174>,\n",
       "  <tf.Tensor: shape=(), dtype=float32, numpy=0.0063330256>,\n",
       "  <tf.Tensor: shape=(), dtype=float32, numpy=0.0027660478>,\n",
       "  <tf.Tensor: shape=(), dtype=float32, numpy=0.0038688534>,\n",
       "  <tf.Tensor: shape=(), dtype=float32, numpy=0.6864449>,\n",
       "  <tf.Tensor: shape=(), dtype=float32, numpy=0.015523918>,\n",
       "  <tf.Tensor: shape=(), dtype=float32, numpy=0.023187967>,\n",
       "  <tf.Tensor: shape=(), dtype=float32, numpy=0.4301212>,\n",
       "  <tf.Tensor: shape=(), dtype=float32, numpy=0.25217697>,\n",
       "  <tf.Tensor: shape=(), dtype=float32, numpy=0.81488293>,\n",
       "  <tf.Tensor: shape=(), dtype=float32, numpy=0.2150861>,\n",
       "  <tf.Tensor: shape=(), dtype=float32, numpy=0.09183589>,\n",
       "  <tf.Tensor: shape=(), dtype=float32, numpy=0.0021334426>,\n",
       "  <tf.Tensor: shape=(), dtype=float32, numpy=0.28219265>,\n",
       "  <tf.Tensor: shape=(), dtype=float32, numpy=1.3681531>,\n",
       "  <tf.Tensor: shape=(), dtype=float32, numpy=0.052254964>,\n",
       "  <tf.Tensor: shape=(), dtype=float32, numpy=0.04205068>,\n",
       "  <tf.Tensor: shape=(), dtype=float32, numpy=0.033845063>,\n",
       "  <tf.Tensor: shape=(), dtype=float32, numpy=0.060811915>,\n",
       "  <tf.Tensor: shape=(), dtype=float32, numpy=0.113828264>,\n",
       "  <tf.Tensor: shape=(), dtype=float32, numpy=0.029347235>,\n",
       "  <tf.Tensor: shape=(), dtype=float32, numpy=0.06208703>,\n",
       "  <tf.Tensor: shape=(), dtype=float32, numpy=0.15915751>,\n",
       "  <tf.Tensor: shape=(), dtype=float32, numpy=0.10268609>,\n",
       "  <tf.Tensor: shape=(), dtype=float32, numpy=0.1377105>,\n",
       "  <tf.Tensor: shape=(), dtype=float32, numpy=0.00013928057>,\n",
       "  <tf.Tensor: shape=(), dtype=float32, numpy=0.0023315323>,\n",
       "  <tf.Tensor: shape=(), dtype=float32, numpy=0.01876866>,\n",
       "  <tf.Tensor: shape=(), dtype=float32, numpy=0.571492>,\n",
       "  <tf.Tensor: shape=(), dtype=float32, numpy=0.017440744>,\n",
       "  <tf.Tensor: shape=(), dtype=float32, numpy=2.1201344>,\n",
       "  <tf.Tensor: shape=(), dtype=float32, numpy=0.003284843>,\n",
       "  <tf.Tensor: shape=(), dtype=float32, numpy=0.1424275>,\n",
       "  <tf.Tensor: shape=(), dtype=float32, numpy=0.0022222816>,\n",
       "  <tf.Tensor: shape=(), dtype=float32, numpy=0.008926689>,\n",
       "  <tf.Tensor: shape=(), dtype=float32, numpy=0.022462757>,\n",
       "  <tf.Tensor: shape=(), dtype=float32, numpy=0.14637722>,\n",
       "  <tf.Tensor: shape=(), dtype=float32, numpy=0.043144103>,\n",
       "  <tf.Tensor: shape=(), dtype=float32, numpy=0.0008626054>,\n",
       "  <tf.Tensor: shape=(), dtype=float32, numpy=0.03793805>,\n",
       "  <tf.Tensor: shape=(), dtype=float32, numpy=0.30409837>,\n",
       "  <tf.Tensor: shape=(), dtype=float32, numpy=0.3232527>,\n",
       "  <tf.Tensor: shape=(), dtype=float32, numpy=0.030242302>,\n",
       "  <tf.Tensor: shape=(), dtype=float32, numpy=0.0700645>,\n",
       "  <tf.Tensor: shape=(), dtype=float32, numpy=0.032369085>,\n",
       "  <tf.Tensor: shape=(), dtype=float32, numpy=0.05162169>,\n",
       "  <tf.Tensor: shape=(), dtype=float32, numpy=0.01906715>,\n",
       "  <tf.Tensor: shape=(), dtype=float32, numpy=0.013085578>,\n",
       "  <tf.Tensor: shape=(), dtype=float32, numpy=0.0072138645>,\n",
       "  <tf.Tensor: shape=(), dtype=float32, numpy=0.32603118>,\n",
       "  <tf.Tensor: shape=(), dtype=float32, numpy=0.19248705>,\n",
       "  <tf.Tensor: shape=(), dtype=float32, numpy=0.005878063>,\n",
       "  <tf.Tensor: shape=(), dtype=float32, numpy=0.05056739>,\n",
       "  <tf.Tensor: shape=(), dtype=float32, numpy=0.2842857>,\n",
       "  <tf.Tensor: shape=(), dtype=float32, numpy=0.014855694>,\n",
       "  <tf.Tensor: shape=(), dtype=float32, numpy=0.010072773>,\n",
       "  <tf.Tensor: shape=(), dtype=float32, numpy=0.05409395>,\n",
       "  <tf.Tensor: shape=(), dtype=float32, numpy=0.0028639112>,\n",
       "  <tf.Tensor: shape=(), dtype=float32, numpy=0.023870625>,\n",
       "  <tf.Tensor: shape=(), dtype=float32, numpy=0.0751555>,\n",
       "  <tf.Tensor: shape=(), dtype=float32, numpy=0.08865397>,\n",
       "  <tf.Tensor: shape=(), dtype=float32, numpy=0.09534542>,\n",
       "  <tf.Tensor: shape=(), dtype=float32, numpy=0.09801058>,\n",
       "  <tf.Tensor: shape=(), dtype=float32, numpy=0.011311142>,\n",
       "  <tf.Tensor: shape=(), dtype=float32, numpy=0.013490078>,\n",
       "  <tf.Tensor: shape=(), dtype=float32, numpy=0.1326797>,\n",
       "  <tf.Tensor: shape=(), dtype=float32, numpy=0.044630505>,\n",
       "  <tf.Tensor: shape=(), dtype=float32, numpy=0.19023816>,\n",
       "  <tf.Tensor: shape=(), dtype=float32, numpy=0.07954058>,\n",
       "  <tf.Tensor: shape=(), dtype=float32, numpy=0.023593564>,\n",
       "  <tf.Tensor: shape=(), dtype=float32, numpy=0.025602095>,\n",
       "  <tf.Tensor: shape=(), dtype=float32, numpy=0.0435224>,\n",
       "  <tf.Tensor: shape=(), dtype=float32, numpy=0.02930647>,\n",
       "  <tf.Tensor: shape=(), dtype=float32, numpy=0.010212185>,\n",
       "  <tf.Tensor: shape=(), dtype=float32, numpy=0.16390699>,\n",
       "  <tf.Tensor: shape=(), dtype=float32, numpy=0.08986325>,\n",
       "  <tf.Tensor: shape=(), dtype=float32, numpy=0.4407971>,\n",
       "  <tf.Tensor: shape=(), dtype=float32, numpy=0.021474095>],\n",
       " 'gen_loss': [<tf.Tensor: shape=(), dtype=float32, numpy=5.3225226>,\n",
       "  <tf.Tensor: shape=(), dtype=float32, numpy=10.547981>,\n",
       "  <tf.Tensor: shape=(), dtype=float32, numpy=6.9293747>,\n",
       "  <tf.Tensor: shape=(), dtype=float32, numpy=7.583377>,\n",
       "  <tf.Tensor: shape=(), dtype=float32, numpy=6.298042>,\n",
       "  <tf.Tensor: shape=(), dtype=float32, numpy=5.3316436>,\n",
       "  <tf.Tensor: shape=(), dtype=float32, numpy=3.2735114>,\n",
       "  <tf.Tensor: shape=(), dtype=float32, numpy=4.1013293>,\n",
       "  <tf.Tensor: shape=(), dtype=float32, numpy=3.0477445>,\n",
       "  <tf.Tensor: shape=(), dtype=float32, numpy=4.8660016>,\n",
       "  <tf.Tensor: shape=(), dtype=float32, numpy=5.7532463>,\n",
       "  <tf.Tensor: shape=(), dtype=float32, numpy=5.305592>,\n",
       "  <tf.Tensor: shape=(), dtype=float32, numpy=6.3986855>,\n",
       "  <tf.Tensor: shape=(), dtype=float32, numpy=5.3018723>,\n",
       "  <tf.Tensor: shape=(), dtype=float32, numpy=5.5053816>,\n",
       "  <tf.Tensor: shape=(), dtype=float32, numpy=6.1038733>,\n",
       "  <tf.Tensor: shape=(), dtype=float32, numpy=6.4011965>,\n",
       "  <tf.Tensor: shape=(), dtype=float32, numpy=8.804367>,\n",
       "  <tf.Tensor: shape=(), dtype=float32, numpy=4.9578223>,\n",
       "  <tf.Tensor: shape=(), dtype=float32, numpy=5.4107323>,\n",
       "  <tf.Tensor: shape=(), dtype=float32, numpy=9.47074>,\n",
       "  <tf.Tensor: shape=(), dtype=float32, numpy=4.291334>,\n",
       "  <tf.Tensor: shape=(), dtype=float32, numpy=5.4793377>,\n",
       "  <tf.Tensor: shape=(), dtype=float32, numpy=5.2399707>,\n",
       "  <tf.Tensor: shape=(), dtype=float32, numpy=6.364393>,\n",
       "  <tf.Tensor: shape=(), dtype=float32, numpy=5.384666>,\n",
       "  <tf.Tensor: shape=(), dtype=float32, numpy=4.1012645>,\n",
       "  <tf.Tensor: shape=(), dtype=float32, numpy=7.2032776>,\n",
       "  <tf.Tensor: shape=(), dtype=float32, numpy=10.172757>,\n",
       "  <tf.Tensor: shape=(), dtype=float32, numpy=4.2535233>,\n",
       "  <tf.Tensor: shape=(), dtype=float32, numpy=6.3894362>,\n",
       "  <tf.Tensor: shape=(), dtype=float32, numpy=7.368749>,\n",
       "  <tf.Tensor: shape=(), dtype=float32, numpy=7.225714>,\n",
       "  <tf.Tensor: shape=(), dtype=float32, numpy=5.4075418>,\n",
       "  <tf.Tensor: shape=(), dtype=float32, numpy=8.643155>,\n",
       "  <tf.Tensor: shape=(), dtype=float32, numpy=8.034266>,\n",
       "  <tf.Tensor: shape=(), dtype=float32, numpy=5.6415586>,\n",
       "  <tf.Tensor: shape=(), dtype=float32, numpy=7.0643997>,\n",
       "  <tf.Tensor: shape=(), dtype=float32, numpy=9.312727>,\n",
       "  <tf.Tensor: shape=(), dtype=float32, numpy=7.2171364>,\n",
       "  <tf.Tensor: shape=(), dtype=float32, numpy=9.1682205>,\n",
       "  <tf.Tensor: shape=(), dtype=float32, numpy=6.8113565>,\n",
       "  <tf.Tensor: shape=(), dtype=float32, numpy=6.8936677>,\n",
       "  <tf.Tensor: shape=(), dtype=float32, numpy=8.524572>,\n",
       "  <tf.Tensor: shape=(), dtype=float32, numpy=7.6517415>,\n",
       "  <tf.Tensor: shape=(), dtype=float32, numpy=6.9219594>,\n",
       "  <tf.Tensor: shape=(), dtype=float32, numpy=9.502541>,\n",
       "  <tf.Tensor: shape=(), dtype=float32, numpy=14.494446>,\n",
       "  <tf.Tensor: shape=(), dtype=float32, numpy=9.878222>,\n",
       "  <tf.Tensor: shape=(), dtype=float32, numpy=8.161533>,\n",
       "  <tf.Tensor: shape=(), dtype=float32, numpy=5.568662>,\n",
       "  <tf.Tensor: shape=(), dtype=float32, numpy=5.927116>,\n",
       "  <tf.Tensor: shape=(), dtype=float32, numpy=6.2312818>,\n",
       "  <tf.Tensor: shape=(), dtype=float32, numpy=8.110147>,\n",
       "  <tf.Tensor: shape=(), dtype=float32, numpy=5.6648116>,\n",
       "  <tf.Tensor: shape=(), dtype=float32, numpy=10.199395>,\n",
       "  <tf.Tensor: shape=(), dtype=float32, numpy=6.9462037>,\n",
       "  <tf.Tensor: shape=(), dtype=float32, numpy=7.589738>,\n",
       "  <tf.Tensor: shape=(), dtype=float32, numpy=4.534279>,\n",
       "  <tf.Tensor: shape=(), dtype=float32, numpy=9.348801>,\n",
       "  <tf.Tensor: shape=(), dtype=float32, numpy=11.256099>,\n",
       "  <tf.Tensor: shape=(), dtype=float32, numpy=8.920395>,\n",
       "  <tf.Tensor: shape=(), dtype=float32, numpy=5.552026>,\n",
       "  <tf.Tensor: shape=(), dtype=float32, numpy=3.6023386>,\n",
       "  <tf.Tensor: shape=(), dtype=float32, numpy=7.2572837>,\n",
       "  <tf.Tensor: shape=(), dtype=float32, numpy=12.450641>,\n",
       "  <tf.Tensor: shape=(), dtype=float32, numpy=7.8722014>,\n",
       "  <tf.Tensor: shape=(), dtype=float32, numpy=7.680304>,\n",
       "  <tf.Tensor: shape=(), dtype=float32, numpy=9.2196>,\n",
       "  <tf.Tensor: shape=(), dtype=float32, numpy=10.265805>,\n",
       "  <tf.Tensor: shape=(), dtype=float32, numpy=8.109043>,\n",
       "  <tf.Tensor: shape=(), dtype=float32, numpy=4.393573>,\n",
       "  <tf.Tensor: shape=(), dtype=float32, numpy=13.161198>,\n",
       "  <tf.Tensor: shape=(), dtype=float32, numpy=10.213396>,\n",
       "  <tf.Tensor: shape=(), dtype=float32, numpy=10.762664>,\n",
       "  <tf.Tensor: shape=(), dtype=float32, numpy=12.041057>,\n",
       "  <tf.Tensor: shape=(), dtype=float32, numpy=11.109126>,\n",
       "  <tf.Tensor: shape=(), dtype=float32, numpy=6.6714983>,\n",
       "  <tf.Tensor: shape=(), dtype=float32, numpy=10.099904>,\n",
       "  <tf.Tensor: shape=(), dtype=float32, numpy=8.016996>,\n",
       "  <tf.Tensor: shape=(), dtype=float32, numpy=7.6106567>,\n",
       "  <tf.Tensor: shape=(), dtype=float32, numpy=9.872136>,\n",
       "  <tf.Tensor: shape=(), dtype=float32, numpy=13.407818>,\n",
       "  <tf.Tensor: shape=(), dtype=float32, numpy=15.3741455>,\n",
       "  <tf.Tensor: shape=(), dtype=float32, numpy=10.594265>,\n",
       "  <tf.Tensor: shape=(), dtype=float32, numpy=7.405148>,\n",
       "  <tf.Tensor: shape=(), dtype=float32, numpy=9.017438>,\n",
       "  <tf.Tensor: shape=(), dtype=float32, numpy=16.439827>,\n",
       "  <tf.Tensor: shape=(), dtype=float32, numpy=7.1383343>,\n",
       "  <tf.Tensor: shape=(), dtype=float32, numpy=6.8765297>,\n",
       "  <tf.Tensor: shape=(), dtype=float32, numpy=8.668223>,\n",
       "  <tf.Tensor: shape=(), dtype=float32, numpy=8.201387>,\n",
       "  <tf.Tensor: shape=(), dtype=float32, numpy=9.179186>,\n",
       "  <tf.Tensor: shape=(), dtype=float32, numpy=10.347114>,\n",
       "  <tf.Tensor: shape=(), dtype=float32, numpy=7.7642517>,\n",
       "  <tf.Tensor: shape=(), dtype=float32, numpy=11.527041>,\n",
       "  <tf.Tensor: shape=(), dtype=float32, numpy=15.479959>,\n",
       "  <tf.Tensor: shape=(), dtype=float32, numpy=9.179805>,\n",
       "  <tf.Tensor: shape=(), dtype=float32, numpy=12.134086>,\n",
       "  <tf.Tensor: shape=(), dtype=float32, numpy=6.8072004>]}"
      ]
     },
     "execution_count": 3,
     "metadata": {},
     "output_type": "execute_result"
    }
   ],
   "source": [
    "gan = DCGAN()\n",
    "gan.train(dataset, epochs=100)"
   ]
  },
  {
   "cell_type": "code",
   "execution_count": 4,
   "metadata": {},
   "outputs": [
    {
     "name": "stderr",
     "output_type": "stream",
     "text": [
      "100%|██████████| 35/35 [00:34<00:00,  1.00it/s]\n",
      "  0%|          | 0/35 [00:00<?, ?it/s]"
     ]
    },
    {
     "name": "stdout",
     "output_type": "stream",
     "text": [
      "Epoch 0, Discriminator Loss: -24.757062911987305, Generator Loss: 34.20345687866211\n"
     ]
    },
    {
     "name": "stderr",
     "output_type": "stream",
     "text": [
      "100%|██████████| 35/35 [00:20<00:00,  1.68it/s]\n",
      "  0%|          | 0/35 [00:00<?, ?it/s]"
     ]
    },
    {
     "name": "stdout",
     "output_type": "stream",
     "text": [
      "Epoch 1, Discriminator Loss: -19.058731079101562, Generator Loss: 28.83074951171875\n"
     ]
    },
    {
     "name": "stderr",
     "output_type": "stream",
     "text": [
      "100%|██████████| 35/35 [00:20<00:00,  1.68it/s]\n",
      "  0%|          | 0/35 [00:00<?, ?it/s]"
     ]
    },
    {
     "name": "stdout",
     "output_type": "stream",
     "text": [
      "Epoch 2, Discriminator Loss: -9.069914817810059, Generator Loss: 10.910600662231445\n"
     ]
    },
    {
     "name": "stderr",
     "output_type": "stream",
     "text": [
      "100%|██████████| 35/35 [00:20<00:00,  1.68it/s]\n",
      "  0%|          | 0/35 [00:00<?, ?it/s]"
     ]
    },
    {
     "name": "stdout",
     "output_type": "stream",
     "text": [
      "Epoch 3, Discriminator Loss: -4.535335540771484, Generator Loss: 5.117617607116699\n"
     ]
    },
    {
     "name": "stderr",
     "output_type": "stream",
     "text": [
      "100%|██████████| 35/35 [00:20<00:00,  1.68it/s]\n",
      "  0%|          | 0/35 [00:00<?, ?it/s]"
     ]
    },
    {
     "name": "stdout",
     "output_type": "stream",
     "text": [
      "Epoch 4, Discriminator Loss: -3.3587400913238525, Generator Loss: 0.5652881860733032\n"
     ]
    },
    {
     "name": "stderr",
     "output_type": "stream",
     "text": [
      "100%|██████████| 35/35 [00:20<00:00,  1.68it/s]\n",
      "  0%|          | 0/35 [00:00<?, ?it/s]"
     ]
    },
    {
     "name": "stdout",
     "output_type": "stream",
     "text": [
      "Epoch 5, Discriminator Loss: -2.4084091186523438, Generator Loss: 0.9746794104576111\n"
     ]
    },
    {
     "name": "stderr",
     "output_type": "stream",
     "text": [
      "100%|██████████| 35/35 [00:20<00:00,  1.68it/s]\n",
      "  0%|          | 0/35 [00:00<?, ?it/s]"
     ]
    },
    {
     "name": "stdout",
     "output_type": "stream",
     "text": [
      "Epoch 6, Discriminator Loss: -2.4714460372924805, Generator Loss: 2.422738552093506\n"
     ]
    },
    {
     "name": "stderr",
     "output_type": "stream",
     "text": [
      "100%|██████████| 35/35 [00:20<00:00,  1.68it/s]\n",
      "  0%|          | 0/35 [00:00<?, ?it/s]"
     ]
    },
    {
     "name": "stdout",
     "output_type": "stream",
     "text": [
      "Epoch 7, Discriminator Loss: -2.533355236053467, Generator Loss: 1.9157495498657227\n"
     ]
    },
    {
     "name": "stderr",
     "output_type": "stream",
     "text": [
      "100%|██████████| 35/35 [00:20<00:00,  1.68it/s]\n",
      "  0%|          | 0/35 [00:00<?, ?it/s]"
     ]
    },
    {
     "name": "stdout",
     "output_type": "stream",
     "text": [
      "Epoch 8, Discriminator Loss: -2.5295822620391846, Generator Loss: 2.4619617462158203\n"
     ]
    },
    {
     "name": "stderr",
     "output_type": "stream",
     "text": [
      "100%|██████████| 35/35 [00:20<00:00,  1.68it/s]\n",
      "  0%|          | 0/35 [00:00<?, ?it/s]"
     ]
    },
    {
     "name": "stdout",
     "output_type": "stream",
     "text": [
      "Epoch 9, Discriminator Loss: -2.365300416946411, Generator Loss: 3.2988531589508057\n"
     ]
    },
    {
     "name": "stderr",
     "output_type": "stream",
     "text": [
      "100%|██████████| 35/35 [00:20<00:00,  1.68it/s]\n",
      "  0%|          | 0/35 [00:00<?, ?it/s]"
     ]
    },
    {
     "name": "stdout",
     "output_type": "stream",
     "text": [
      "Epoch 10, Discriminator Loss: -2.5289297103881836, Generator Loss: 2.7009546756744385\n"
     ]
    },
    {
     "name": "stderr",
     "output_type": "stream",
     "text": [
      "100%|██████████| 35/35 [00:20<00:00,  1.68it/s]\n",
      "  0%|          | 0/35 [00:00<?, ?it/s]"
     ]
    },
    {
     "name": "stdout",
     "output_type": "stream",
     "text": [
      "Epoch 11, Discriminator Loss: -2.17199969291687, Generator Loss: 3.519066333770752\n"
     ]
    },
    {
     "name": "stderr",
     "output_type": "stream",
     "text": [
      "100%|██████████| 35/35 [00:20<00:00,  1.68it/s]\n",
      "  0%|          | 0/35 [00:00<?, ?it/s]"
     ]
    },
    {
     "name": "stdout",
     "output_type": "stream",
     "text": [
      "Epoch 12, Discriminator Loss: -2.0343616008758545, Generator Loss: 3.8646295070648193\n"
     ]
    },
    {
     "name": "stderr",
     "output_type": "stream",
     "text": [
      "100%|██████████| 35/35 [00:21<00:00,  1.66it/s]\n",
      "  0%|          | 0/35 [00:00<?, ?it/s]"
     ]
    },
    {
     "name": "stdout",
     "output_type": "stream",
     "text": [
      "Epoch 13, Discriminator Loss: -2.3606410026550293, Generator Loss: 4.279164791107178\n"
     ]
    },
    {
     "name": "stderr",
     "output_type": "stream",
     "text": [
      "100%|██████████| 35/35 [00:20<00:00,  1.68it/s]\n",
      "  0%|          | 0/35 [00:00<?, ?it/s]"
     ]
    },
    {
     "name": "stdout",
     "output_type": "stream",
     "text": [
      "Epoch 14, Discriminator Loss: -2.146576404571533, Generator Loss: 3.7360517978668213\n"
     ]
    },
    {
     "name": "stderr",
     "output_type": "stream",
     "text": [
      "100%|██████████| 35/35 [00:20<00:00,  1.68it/s]\n",
      "  0%|          | 0/35 [00:00<?, ?it/s]"
     ]
    },
    {
     "name": "stdout",
     "output_type": "stream",
     "text": [
      "Epoch 15, Discriminator Loss: -2.764277935028076, Generator Loss: 6.989728927612305\n"
     ]
    },
    {
     "name": "stderr",
     "output_type": "stream",
     "text": [
      "100%|██████████| 35/35 [00:20<00:00,  1.67it/s]\n",
      "  0%|          | 0/35 [00:00<?, ?it/s]"
     ]
    },
    {
     "name": "stdout",
     "output_type": "stream",
     "text": [
      "Epoch 16, Discriminator Loss: -2.8129982948303223, Generator Loss: 6.08245325088501\n"
     ]
    },
    {
     "name": "stderr",
     "output_type": "stream",
     "text": [
      "100%|██████████| 35/35 [00:20<00:00,  1.67it/s]\n",
      "  0%|          | 0/35 [00:00<?, ?it/s]"
     ]
    },
    {
     "name": "stdout",
     "output_type": "stream",
     "text": [
      "Epoch 17, Discriminator Loss: -3.0919666290283203, Generator Loss: 6.469058990478516\n"
     ]
    },
    {
     "name": "stderr",
     "output_type": "stream",
     "text": [
      "100%|██████████| 35/35 [00:20<00:00,  1.68it/s]\n",
      "  0%|          | 0/35 [00:00<?, ?it/s]"
     ]
    },
    {
     "name": "stdout",
     "output_type": "stream",
     "text": [
      "Epoch 18, Discriminator Loss: -2.48401141166687, Generator Loss: 5.853505611419678\n"
     ]
    },
    {
     "name": "stderr",
     "output_type": "stream",
     "text": [
      "100%|██████████| 35/35 [00:20<00:00,  1.68it/s]\n",
      "  0%|          | 0/35 [00:00<?, ?it/s]"
     ]
    },
    {
     "name": "stdout",
     "output_type": "stream",
     "text": [
      "Epoch 19, Discriminator Loss: -3.1094183921813965, Generator Loss: 8.262031555175781\n"
     ]
    },
    {
     "name": "stderr",
     "output_type": "stream",
     "text": [
      "100%|██████████| 35/35 [00:20<00:00,  1.68it/s]\n",
      "  0%|          | 0/35 [00:00<?, ?it/s]"
     ]
    },
    {
     "name": "stdout",
     "output_type": "stream",
     "text": [
      "Epoch 20, Discriminator Loss: -6.877216815948486, Generator Loss: 9.356369018554688\n"
     ]
    },
    {
     "name": "stderr",
     "output_type": "stream",
     "text": [
      "100%|██████████| 35/35 [00:20<00:00,  1.68it/s]\n",
      "  0%|          | 0/35 [00:00<?, ?it/s]"
     ]
    },
    {
     "name": "stdout",
     "output_type": "stream",
     "text": [
      "Epoch 21, Discriminator Loss: -8.279870986938477, Generator Loss: 8.947834014892578\n"
     ]
    },
    {
     "name": "stderr",
     "output_type": "stream",
     "text": [
      "100%|██████████| 35/35 [00:20<00:00,  1.69it/s]\n",
      "  0%|          | 0/35 [00:00<?, ?it/s]"
     ]
    },
    {
     "name": "stdout",
     "output_type": "stream",
     "text": [
      "Epoch 22, Discriminator Loss: -5.024710655212402, Generator Loss: 11.388216018676758\n"
     ]
    },
    {
     "name": "stderr",
     "output_type": "stream",
     "text": [
      "100%|██████████| 35/35 [00:20<00:00,  1.69it/s]\n",
      "  0%|          | 0/35 [00:00<?, ?it/s]"
     ]
    },
    {
     "name": "stdout",
     "output_type": "stream",
     "text": [
      "Epoch 23, Discriminator Loss: -5.833437442779541, Generator Loss: 10.301114082336426\n"
     ]
    },
    {
     "name": "stderr",
     "output_type": "stream",
     "text": [
      "100%|██████████| 35/35 [00:20<00:00,  1.69it/s]\n",
      "  0%|          | 0/35 [00:00<?, ?it/s]"
     ]
    },
    {
     "name": "stdout",
     "output_type": "stream",
     "text": [
      "Epoch 24, Discriminator Loss: -4.459567070007324, Generator Loss: 7.900074005126953\n"
     ]
    },
    {
     "name": "stderr",
     "output_type": "stream",
     "text": [
      "100%|██████████| 35/35 [00:20<00:00,  1.69it/s]\n",
      "  0%|          | 0/35 [00:00<?, ?it/s]"
     ]
    },
    {
     "name": "stdout",
     "output_type": "stream",
     "text": [
      "Epoch 25, Discriminator Loss: -3.347546339035034, Generator Loss: 8.257169723510742\n"
     ]
    },
    {
     "name": "stderr",
     "output_type": "stream",
     "text": [
      "100%|██████████| 35/35 [00:20<00:00,  1.69it/s]\n",
      "  0%|          | 0/35 [00:00<?, ?it/s]"
     ]
    },
    {
     "name": "stdout",
     "output_type": "stream",
     "text": [
      "Epoch 26, Discriminator Loss: -3.357102632522583, Generator Loss: 5.510361194610596\n"
     ]
    },
    {
     "name": "stderr",
     "output_type": "stream",
     "text": [
      "100%|██████████| 35/35 [00:20<00:00,  1.68it/s]\n",
      "  0%|          | 0/35 [00:00<?, ?it/s]"
     ]
    },
    {
     "name": "stdout",
     "output_type": "stream",
     "text": [
      "Epoch 27, Discriminator Loss: -3.618894100189209, Generator Loss: 3.7007668018341064\n"
     ]
    },
    {
     "name": "stderr",
     "output_type": "stream",
     "text": [
      "100%|██████████| 35/35 [00:20<00:00,  1.69it/s]\n",
      "  0%|          | 0/35 [00:00<?, ?it/s]"
     ]
    },
    {
     "name": "stdout",
     "output_type": "stream",
     "text": [
      "Epoch 28, Discriminator Loss: -4.088027477264404, Generator Loss: 4.130951881408691\n"
     ]
    },
    {
     "name": "stderr",
     "output_type": "stream",
     "text": [
      "100%|██████████| 35/35 [00:20<00:00,  1.69it/s]\n",
      "  0%|          | 0/35 [00:00<?, ?it/s]"
     ]
    },
    {
     "name": "stdout",
     "output_type": "stream",
     "text": [
      "Epoch 29, Discriminator Loss: -3.8598432540893555, Generator Loss: 6.245220184326172\n"
     ]
    },
    {
     "name": "stderr",
     "output_type": "stream",
     "text": [
      "100%|██████████| 35/35 [00:20<00:00,  1.68it/s]\n",
      "  0%|          | 0/35 [00:00<?, ?it/s]"
     ]
    },
    {
     "name": "stdout",
     "output_type": "stream",
     "text": [
      "Epoch 30, Discriminator Loss: -3.5439603328704834, Generator Loss: 4.878843784332275\n"
     ]
    },
    {
     "name": "stderr",
     "output_type": "stream",
     "text": [
      "100%|██████████| 35/35 [00:20<00:00,  1.69it/s]\n",
      "  0%|          | 0/35 [00:00<?, ?it/s]"
     ]
    },
    {
     "name": "stdout",
     "output_type": "stream",
     "text": [
      "Epoch 31, Discriminator Loss: -3.820399522781372, Generator Loss: 6.057975769042969\n"
     ]
    },
    {
     "name": "stderr",
     "output_type": "stream",
     "text": [
      "100%|██████████| 35/35 [00:20<00:00,  1.69it/s]\n",
      "  0%|          | 0/35 [00:00<?, ?it/s]"
     ]
    },
    {
     "name": "stdout",
     "output_type": "stream",
     "text": [
      "Epoch 32, Discriminator Loss: -3.390864610671997, Generator Loss: 6.937422752380371\n"
     ]
    },
    {
     "name": "stderr",
     "output_type": "stream",
     "text": [
      "100%|██████████| 35/35 [00:20<00:00,  1.69it/s]\n",
      "  0%|          | 0/35 [00:00<?, ?it/s]"
     ]
    },
    {
     "name": "stdout",
     "output_type": "stream",
     "text": [
      "Epoch 33, Discriminator Loss: -3.6522231101989746, Generator Loss: 5.45205545425415\n"
     ]
    },
    {
     "name": "stderr",
     "output_type": "stream",
     "text": [
      "100%|██████████| 35/35 [00:20<00:00,  1.69it/s]\n",
      "  0%|          | 0/35 [00:00<?, ?it/s]"
     ]
    },
    {
     "name": "stdout",
     "output_type": "stream",
     "text": [
      "Epoch 34, Discriminator Loss: -2.9399476051330566, Generator Loss: 4.602797508239746\n"
     ]
    },
    {
     "name": "stderr",
     "output_type": "stream",
     "text": [
      "100%|██████████| 35/35 [00:21<00:00,  1.66it/s]\n",
      "  0%|          | 0/35 [00:00<?, ?it/s]"
     ]
    },
    {
     "name": "stdout",
     "output_type": "stream",
     "text": [
      "Epoch 35, Discriminator Loss: -3.903203248977661, Generator Loss: 5.4392170906066895\n"
     ]
    },
    {
     "name": "stderr",
     "output_type": "stream",
     "text": [
      "100%|██████████| 35/35 [00:21<00:00,  1.65it/s]\n",
      "  0%|          | 0/35 [00:00<?, ?it/s]"
     ]
    },
    {
     "name": "stdout",
     "output_type": "stream",
     "text": [
      "Epoch 36, Discriminator Loss: -3.9303622245788574, Generator Loss: 5.3681230545043945\n"
     ]
    },
    {
     "name": "stderr",
     "output_type": "stream",
     "text": [
      "100%|██████████| 35/35 [00:21<00:00,  1.65it/s]\n",
      "  0%|          | 0/35 [00:00<?, ?it/s]"
     ]
    },
    {
     "name": "stdout",
     "output_type": "stream",
     "text": [
      "Epoch 37, Discriminator Loss: -3.7738749980926514, Generator Loss: 5.559556007385254\n"
     ]
    },
    {
     "name": "stderr",
     "output_type": "stream",
     "text": [
      "100%|██████████| 35/35 [00:21<00:00,  1.64it/s]\n",
      "  0%|          | 0/35 [00:00<?, ?it/s]"
     ]
    },
    {
     "name": "stdout",
     "output_type": "stream",
     "text": [
      "Epoch 38, Discriminator Loss: -2.8952484130859375, Generator Loss: 4.441953659057617\n"
     ]
    },
    {
     "name": "stderr",
     "output_type": "stream",
     "text": [
      "100%|██████████| 35/35 [00:21<00:00,  1.66it/s]\n",
      "  0%|          | 0/35 [00:00<?, ?it/s]"
     ]
    },
    {
     "name": "stdout",
     "output_type": "stream",
     "text": [
      "Epoch 39, Discriminator Loss: -2.704331398010254, Generator Loss: 3.7229208946228027\n"
     ]
    },
    {
     "name": "stderr",
     "output_type": "stream",
     "text": [
      "100%|██████████| 35/35 [00:21<00:00,  1.66it/s]\n",
      "  0%|          | 0/35 [00:00<?, ?it/s]"
     ]
    },
    {
     "name": "stdout",
     "output_type": "stream",
     "text": [
      "Epoch 40, Discriminator Loss: -3.9720699787139893, Generator Loss: 5.5514817237854\n"
     ]
    },
    {
     "name": "stderr",
     "output_type": "stream",
     "text": [
      "100%|██████████| 35/35 [00:20<00:00,  1.68it/s]\n",
      "  0%|          | 0/35 [00:00<?, ?it/s]"
     ]
    },
    {
     "name": "stdout",
     "output_type": "stream",
     "text": [
      "Epoch 41, Discriminator Loss: -2.6096761226654053, Generator Loss: 4.9361114501953125\n"
     ]
    },
    {
     "name": "stderr",
     "output_type": "stream",
     "text": [
      "100%|██████████| 35/35 [00:20<00:00,  1.67it/s]\n",
      "  0%|          | 0/35 [00:00<?, ?it/s]"
     ]
    },
    {
     "name": "stdout",
     "output_type": "stream",
     "text": [
      "Epoch 42, Discriminator Loss: -2.3155579566955566, Generator Loss: 3.4724888801574707\n"
     ]
    },
    {
     "name": "stderr",
     "output_type": "stream",
     "text": [
      "100%|██████████| 35/35 [00:20<00:00,  1.68it/s]\n",
      "  0%|          | 0/35 [00:00<?, ?it/s]"
     ]
    },
    {
     "name": "stdout",
     "output_type": "stream",
     "text": [
      "Epoch 43, Discriminator Loss: -2.534557580947876, Generator Loss: 7.640800952911377\n"
     ]
    },
    {
     "name": "stderr",
     "output_type": "stream",
     "text": [
      "100%|██████████| 35/35 [00:20<00:00,  1.67it/s]\n",
      "  0%|          | 0/35 [00:00<?, ?it/s]"
     ]
    },
    {
     "name": "stdout",
     "output_type": "stream",
     "text": [
      "Epoch 44, Discriminator Loss: -2.101050853729248, Generator Loss: 5.722107410430908\n"
     ]
    },
    {
     "name": "stderr",
     "output_type": "stream",
     "text": [
      "100%|██████████| 35/35 [00:20<00:00,  1.68it/s]\n",
      "  0%|          | 0/35 [00:00<?, ?it/s]"
     ]
    },
    {
     "name": "stdout",
     "output_type": "stream",
     "text": [
      "Epoch 45, Discriminator Loss: -2.6167304515838623, Generator Loss: 4.2403788566589355\n"
     ]
    },
    {
     "name": "stderr",
     "output_type": "stream",
     "text": [
      "100%|██████████| 35/35 [00:21<00:00,  1.65it/s]\n",
      "  0%|          | 0/35 [00:00<?, ?it/s]"
     ]
    },
    {
     "name": "stdout",
     "output_type": "stream",
     "text": [
      "Epoch 46, Discriminator Loss: -2.480473756790161, Generator Loss: 3.580465316772461\n"
     ]
    },
    {
     "name": "stderr",
     "output_type": "stream",
     "text": [
      "100%|██████████| 35/35 [00:21<00:00,  1.65it/s]\n",
      "  0%|          | 0/35 [00:00<?, ?it/s]"
     ]
    },
    {
     "name": "stdout",
     "output_type": "stream",
     "text": [
      "Epoch 47, Discriminator Loss: -3.014641284942627, Generator Loss: 4.447286128997803\n"
     ]
    },
    {
     "name": "stderr",
     "output_type": "stream",
     "text": [
      "100%|██████████| 35/35 [00:20<00:00,  1.67it/s]\n",
      "  0%|          | 0/35 [00:00<?, ?it/s]"
     ]
    },
    {
     "name": "stdout",
     "output_type": "stream",
     "text": [
      "Epoch 48, Discriminator Loss: -1.9305334091186523, Generator Loss: 1.764359474182129\n"
     ]
    },
    {
     "name": "stderr",
     "output_type": "stream",
     "text": [
      "100%|██████████| 35/35 [00:20<00:00,  1.68it/s]\n",
      "  0%|          | 0/35 [00:00<?, ?it/s]"
     ]
    },
    {
     "name": "stdout",
     "output_type": "stream",
     "text": [
      "Epoch 49, Discriminator Loss: -2.897310495376587, Generator Loss: 3.9617857933044434\n"
     ]
    },
    {
     "name": "stderr",
     "output_type": "stream",
     "text": [
      "100%|██████████| 35/35 [00:20<00:00,  1.68it/s]\n",
      "  0%|          | 0/35 [00:00<?, ?it/s]"
     ]
    },
    {
     "name": "stdout",
     "output_type": "stream",
     "text": [
      "Epoch 50, Discriminator Loss: -2.7318849563598633, Generator Loss: 5.486584186553955\n"
     ]
    },
    {
     "name": "stderr",
     "output_type": "stream",
     "text": [
      "100%|██████████| 35/35 [00:20<00:00,  1.68it/s]\n",
      "  0%|          | 0/35 [00:00<?, ?it/s]"
     ]
    },
    {
     "name": "stdout",
     "output_type": "stream",
     "text": [
      "Epoch 51, Discriminator Loss: -3.164848804473877, Generator Loss: 4.065773010253906\n"
     ]
    },
    {
     "name": "stderr",
     "output_type": "stream",
     "text": [
      "100%|██████████| 35/35 [00:20<00:00,  1.68it/s]\n",
      "  0%|          | 0/35 [00:00<?, ?it/s]"
     ]
    },
    {
     "name": "stdout",
     "output_type": "stream",
     "text": [
      "Epoch 52, Discriminator Loss: -2.7243034839630127, Generator Loss: 5.885112762451172\n"
     ]
    },
    {
     "name": "stderr",
     "output_type": "stream",
     "text": [
      "100%|██████████| 35/35 [00:20<00:00,  1.68it/s]\n",
      "  0%|          | 0/35 [00:00<?, ?it/s]"
     ]
    },
    {
     "name": "stdout",
     "output_type": "stream",
     "text": [
      "Epoch 53, Discriminator Loss: -2.575092315673828, Generator Loss: 3.9353816509246826\n"
     ]
    },
    {
     "name": "stderr",
     "output_type": "stream",
     "text": [
      "100%|██████████| 35/35 [00:20<00:00,  1.68it/s]\n",
      "  0%|          | 0/35 [00:00<?, ?it/s]"
     ]
    },
    {
     "name": "stdout",
     "output_type": "stream",
     "text": [
      "Epoch 54, Discriminator Loss: -3.294595241546631, Generator Loss: 0.22581908106803894\n"
     ]
    },
    {
     "name": "stderr",
     "output_type": "stream",
     "text": [
      "100%|██████████| 35/35 [00:20<00:00,  1.68it/s]\n",
      "  0%|          | 0/35 [00:00<?, ?it/s]"
     ]
    },
    {
     "name": "stdout",
     "output_type": "stream",
     "text": [
      "Epoch 55, Discriminator Loss: -2.366021156311035, Generator Loss: 1.700991153717041\n"
     ]
    },
    {
     "name": "stderr",
     "output_type": "stream",
     "text": [
      "100%|██████████| 35/35 [00:20<00:00,  1.68it/s]\n",
      "  0%|          | 0/35 [00:00<?, ?it/s]"
     ]
    },
    {
     "name": "stdout",
     "output_type": "stream",
     "text": [
      "Epoch 56, Discriminator Loss: -2.611802101135254, Generator Loss: 4.118475914001465\n"
     ]
    },
    {
     "name": "stderr",
     "output_type": "stream",
     "text": [
      "100%|██████████| 35/35 [00:20<00:00,  1.68it/s]\n",
      "  0%|          | 0/35 [00:00<?, ?it/s]"
     ]
    },
    {
     "name": "stdout",
     "output_type": "stream",
     "text": [
      "Epoch 57, Discriminator Loss: -2.441791296005249, Generator Loss: 4.270698547363281\n"
     ]
    },
    {
     "name": "stderr",
     "output_type": "stream",
     "text": [
      "100%|██████████| 35/35 [00:20<00:00,  1.68it/s]\n",
      "  0%|          | 0/35 [00:00<?, ?it/s]"
     ]
    },
    {
     "name": "stdout",
     "output_type": "stream",
     "text": [
      "Epoch 58, Discriminator Loss: -2.559880495071411, Generator Loss: 4.5500898361206055\n"
     ]
    },
    {
     "name": "stderr",
     "output_type": "stream",
     "text": [
      "100%|██████████| 35/35 [00:20<00:00,  1.68it/s]\n",
      "  0%|          | 0/35 [00:00<?, ?it/s]"
     ]
    },
    {
     "name": "stdout",
     "output_type": "stream",
     "text": [
      "Epoch 59, Discriminator Loss: -1.812239408493042, Generator Loss: 3.322816848754883\n"
     ]
    },
    {
     "name": "stderr",
     "output_type": "stream",
     "text": [
      "100%|██████████| 35/35 [00:20<00:00,  1.68it/s]\n",
      "  0%|          | 0/35 [00:00<?, ?it/s]"
     ]
    },
    {
     "name": "stdout",
     "output_type": "stream",
     "text": [
      "Epoch 60, Discriminator Loss: -2.1491620540618896, Generator Loss: 5.411194324493408\n"
     ]
    },
    {
     "name": "stderr",
     "output_type": "stream",
     "text": [
      "100%|██████████| 35/35 [00:20<00:00,  1.68it/s]\n",
      "  0%|          | 0/35 [00:00<?, ?it/s]"
     ]
    },
    {
     "name": "stdout",
     "output_type": "stream",
     "text": [
      "Epoch 61, Discriminator Loss: -2.6325533390045166, Generator Loss: 5.356631755828857\n"
     ]
    },
    {
     "name": "stderr",
     "output_type": "stream",
     "text": [
      "100%|██████████| 35/35 [00:20<00:00,  1.68it/s]\n",
      "  0%|          | 0/35 [00:00<?, ?it/s]"
     ]
    },
    {
     "name": "stdout",
     "output_type": "stream",
     "text": [
      "Epoch 62, Discriminator Loss: -2.5932183265686035, Generator Loss: 4.062860488891602\n"
     ]
    },
    {
     "name": "stderr",
     "output_type": "stream",
     "text": [
      "100%|██████████| 35/35 [00:20<00:00,  1.68it/s]\n",
      "  0%|          | 0/35 [00:00<?, ?it/s]"
     ]
    },
    {
     "name": "stdout",
     "output_type": "stream",
     "text": [
      "Epoch 63, Discriminator Loss: -2.1517481803894043, Generator Loss: 5.543624401092529\n"
     ]
    },
    {
     "name": "stderr",
     "output_type": "stream",
     "text": [
      "100%|██████████| 35/35 [00:20<00:00,  1.67it/s]\n",
      "  0%|          | 0/35 [00:00<?, ?it/s]"
     ]
    },
    {
     "name": "stdout",
     "output_type": "stream",
     "text": [
      "Epoch 64, Discriminator Loss: -2.355591058731079, Generator Loss: 2.694598436355591\n"
     ]
    },
    {
     "name": "stderr",
     "output_type": "stream",
     "text": [
      "100%|██████████| 35/35 [00:21<00:00,  1.66it/s]\n",
      "  0%|          | 0/35 [00:00<?, ?it/s]"
     ]
    },
    {
     "name": "stdout",
     "output_type": "stream",
     "text": [
      "Epoch 65, Discriminator Loss: -1.6449499130249023, Generator Loss: 1.7928963899612427\n"
     ]
    },
    {
     "name": "stderr",
     "output_type": "stream",
     "text": [
      "100%|██████████| 35/35 [00:20<00:00,  1.68it/s]\n",
      "  0%|          | 0/35 [00:00<?, ?it/s]"
     ]
    },
    {
     "name": "stdout",
     "output_type": "stream",
     "text": [
      "Epoch 66, Discriminator Loss: -2.3766844272613525, Generator Loss: 1.9237756729125977\n"
     ]
    },
    {
     "name": "stderr",
     "output_type": "stream",
     "text": [
      "100%|██████████| 35/35 [00:21<00:00,  1.65it/s]\n",
      "  0%|          | 0/35 [00:00<?, ?it/s]"
     ]
    },
    {
     "name": "stdout",
     "output_type": "stream",
     "text": [
      "Epoch 67, Discriminator Loss: -1.8323171138763428, Generator Loss: 3.5799384117126465\n"
     ]
    },
    {
     "name": "stderr",
     "output_type": "stream",
     "text": [
      "100%|██████████| 35/35 [00:21<00:00,  1.66it/s]\n",
      "  0%|          | 0/35 [00:00<?, ?it/s]"
     ]
    },
    {
     "name": "stdout",
     "output_type": "stream",
     "text": [
      "Epoch 68, Discriminator Loss: -2.2441494464874268, Generator Loss: 4.088316917419434\n"
     ]
    },
    {
     "name": "stderr",
     "output_type": "stream",
     "text": [
      "100%|██████████| 35/35 [00:21<00:00,  1.66it/s]\n",
      "  0%|          | 0/35 [00:00<?, ?it/s]"
     ]
    },
    {
     "name": "stdout",
     "output_type": "stream",
     "text": [
      "Epoch 69, Discriminator Loss: -1.8070969581604004, Generator Loss: 4.473671913146973\n"
     ]
    },
    {
     "name": "stderr",
     "output_type": "stream",
     "text": [
      "100%|██████████| 35/35 [00:20<00:00,  1.68it/s]\n",
      "  0%|          | 0/35 [00:00<?, ?it/s]"
     ]
    },
    {
     "name": "stdout",
     "output_type": "stream",
     "text": [
      "Epoch 70, Discriminator Loss: -2.256800413131714, Generator Loss: 2.758789300918579\n"
     ]
    },
    {
     "name": "stderr",
     "output_type": "stream",
     "text": [
      "100%|██████████| 35/35 [00:20<00:00,  1.68it/s]\n",
      "  0%|          | 0/35 [00:00<?, ?it/s]"
     ]
    },
    {
     "name": "stdout",
     "output_type": "stream",
     "text": [
      "Epoch 71, Discriminator Loss: -3.065199375152588, Generator Loss: 3.2456841468811035\n"
     ]
    },
    {
     "name": "stderr",
     "output_type": "stream",
     "text": [
      "100%|██████████| 35/35 [00:20<00:00,  1.68it/s]\n",
      "  0%|          | 0/35 [00:00<?, ?it/s]"
     ]
    },
    {
     "name": "stdout",
     "output_type": "stream",
     "text": [
      "Epoch 72, Discriminator Loss: -2.3565361499786377, Generator Loss: 1.4483298063278198\n"
     ]
    },
    {
     "name": "stderr",
     "output_type": "stream",
     "text": [
      "100%|██████████| 35/35 [00:20<00:00,  1.68it/s]\n",
      "  0%|          | 0/35 [00:00<?, ?it/s]"
     ]
    },
    {
     "name": "stdout",
     "output_type": "stream",
     "text": [
      "Epoch 73, Discriminator Loss: -2.8033976554870605, Generator Loss: 4.770090103149414\n"
     ]
    },
    {
     "name": "stderr",
     "output_type": "stream",
     "text": [
      "100%|██████████| 35/35 [00:20<00:00,  1.68it/s]\n",
      "  0%|          | 0/35 [00:00<?, ?it/s]"
     ]
    },
    {
     "name": "stdout",
     "output_type": "stream",
     "text": [
      "Epoch 74, Discriminator Loss: -2.6897764205932617, Generator Loss: 5.712634563446045\n"
     ]
    },
    {
     "name": "stderr",
     "output_type": "stream",
     "text": [
      "100%|██████████| 35/35 [00:20<00:00,  1.68it/s]\n",
      "  0%|          | 0/35 [00:00<?, ?it/s]"
     ]
    },
    {
     "name": "stdout",
     "output_type": "stream",
     "text": [
      "Epoch 75, Discriminator Loss: -2.3461754322052, Generator Loss: 2.7926290035247803\n"
     ]
    },
    {
     "name": "stderr",
     "output_type": "stream",
     "text": [
      "100%|██████████| 35/35 [00:20<00:00,  1.68it/s]\n",
      "  0%|          | 0/35 [00:00<?, ?it/s]"
     ]
    },
    {
     "name": "stdout",
     "output_type": "stream",
     "text": [
      "Epoch 76, Discriminator Loss: -2.1432924270629883, Generator Loss: 0.718255877494812\n"
     ]
    },
    {
     "name": "stderr",
     "output_type": "stream",
     "text": [
      "100%|██████████| 35/35 [00:20<00:00,  1.68it/s]\n",
      "  0%|          | 0/35 [00:00<?, ?it/s]"
     ]
    },
    {
     "name": "stdout",
     "output_type": "stream",
     "text": [
      "Epoch 77, Discriminator Loss: -2.1524198055267334, Generator Loss: 3.3728084564208984\n"
     ]
    },
    {
     "name": "stderr",
     "output_type": "stream",
     "text": [
      "100%|██████████| 35/35 [00:20<00:00,  1.68it/s]\n",
      "  0%|          | 0/35 [00:00<?, ?it/s]"
     ]
    },
    {
     "name": "stdout",
     "output_type": "stream",
     "text": [
      "Epoch 78, Discriminator Loss: -2.2983555793762207, Generator Loss: 2.197655200958252\n"
     ]
    },
    {
     "name": "stderr",
     "output_type": "stream",
     "text": [
      "100%|██████████| 35/35 [00:20<00:00,  1.69it/s]\n",
      "  0%|          | 0/35 [00:00<?, ?it/s]"
     ]
    },
    {
     "name": "stdout",
     "output_type": "stream",
     "text": [
      "Epoch 79, Discriminator Loss: -2.3762664794921875, Generator Loss: 3.6698763370513916\n"
     ]
    },
    {
     "name": "stderr",
     "output_type": "stream",
     "text": [
      "100%|██████████| 35/35 [00:20<00:00,  1.68it/s]\n",
      "  0%|          | 0/35 [00:00<?, ?it/s]"
     ]
    },
    {
     "name": "stdout",
     "output_type": "stream",
     "text": [
      "Epoch 80, Discriminator Loss: -1.3274110555648804, Generator Loss: 1.1381279230117798\n"
     ]
    },
    {
     "name": "stderr",
     "output_type": "stream",
     "text": [
      "100%|██████████| 35/35 [00:20<00:00,  1.68it/s]\n",
      "  0%|          | 0/35 [00:00<?, ?it/s]"
     ]
    },
    {
     "name": "stdout",
     "output_type": "stream",
     "text": [
      "Epoch 81, Discriminator Loss: -2.7635579109191895, Generator Loss: 2.0408031940460205\n"
     ]
    },
    {
     "name": "stderr",
     "output_type": "stream",
     "text": [
      "100%|██████████| 35/35 [00:20<00:00,  1.68it/s]\n",
      "  0%|          | 0/35 [00:00<?, ?it/s]"
     ]
    },
    {
     "name": "stdout",
     "output_type": "stream",
     "text": [
      "Epoch 82, Discriminator Loss: -1.8026936054229736, Generator Loss: 3.070887804031372\n"
     ]
    },
    {
     "name": "stderr",
     "output_type": "stream",
     "text": [
      "100%|██████████| 35/35 [00:20<00:00,  1.68it/s]\n",
      "  0%|          | 0/35 [00:00<?, ?it/s]"
     ]
    },
    {
     "name": "stdout",
     "output_type": "stream",
     "text": [
      "Epoch 83, Discriminator Loss: -2.3172688484191895, Generator Loss: 1.1630628108978271\n"
     ]
    },
    {
     "name": "stderr",
     "output_type": "stream",
     "text": [
      "100%|██████████| 35/35 [00:20<00:00,  1.68it/s]\n",
      "  0%|          | 0/35 [00:00<?, ?it/s]"
     ]
    },
    {
     "name": "stdout",
     "output_type": "stream",
     "text": [
      "Epoch 84, Discriminator Loss: -2.7892026901245117, Generator Loss: 1.7990235090255737\n"
     ]
    },
    {
     "name": "stderr",
     "output_type": "stream",
     "text": [
      "100%|██████████| 35/35 [00:20<00:00,  1.68it/s]\n",
      "  0%|          | 0/35 [00:00<?, ?it/s]"
     ]
    },
    {
     "name": "stdout",
     "output_type": "stream",
     "text": [
      "Epoch 85, Discriminator Loss: -2.4248740673065186, Generator Loss: 0.7497434020042419\n"
     ]
    },
    {
     "name": "stderr",
     "output_type": "stream",
     "text": [
      "100%|██████████| 35/35 [00:20<00:00,  1.68it/s]\n",
      "  0%|          | 0/35 [00:00<?, ?it/s]"
     ]
    },
    {
     "name": "stdout",
     "output_type": "stream",
     "text": [
      "Epoch 86, Discriminator Loss: -2.4710350036621094, Generator Loss: 2.697746992111206\n"
     ]
    },
    {
     "name": "stderr",
     "output_type": "stream",
     "text": [
      "100%|██████████| 35/35 [00:20<00:00,  1.68it/s]\n",
      "  0%|          | 0/35 [00:00<?, ?it/s]"
     ]
    },
    {
     "name": "stdout",
     "output_type": "stream",
     "text": [
      "Epoch 87, Discriminator Loss: -2.5034427642822266, Generator Loss: 3.967236280441284\n"
     ]
    },
    {
     "name": "stderr",
     "output_type": "stream",
     "text": [
      "100%|██████████| 35/35 [00:20<00:00,  1.68it/s]\n",
      "  0%|          | 0/35 [00:00<?, ?it/s]"
     ]
    },
    {
     "name": "stdout",
     "output_type": "stream",
     "text": [
      "Epoch 88, Discriminator Loss: -2.322354316711426, Generator Loss: 2.1086578369140625\n"
     ]
    },
    {
     "name": "stderr",
     "output_type": "stream",
     "text": [
      "100%|██████████| 35/35 [00:20<00:00,  1.68it/s]\n",
      "  0%|          | 0/35 [00:00<?, ?it/s]"
     ]
    },
    {
     "name": "stdout",
     "output_type": "stream",
     "text": [
      "Epoch 89, Discriminator Loss: -2.4904677867889404, Generator Loss: 2.7537834644317627\n"
     ]
    },
    {
     "name": "stderr",
     "output_type": "stream",
     "text": [
      "100%|██████████| 35/35 [00:20<00:00,  1.69it/s]\n",
      "  0%|          | 0/35 [00:00<?, ?it/s]"
     ]
    },
    {
     "name": "stdout",
     "output_type": "stream",
     "text": [
      "Epoch 90, Discriminator Loss: -2.5730483531951904, Generator Loss: 1.1438369750976562\n"
     ]
    },
    {
     "name": "stderr",
     "output_type": "stream",
     "text": [
      "100%|██████████| 35/35 [00:20<00:00,  1.69it/s]\n",
      "  0%|          | 0/35 [00:00<?, ?it/s]"
     ]
    },
    {
     "name": "stdout",
     "output_type": "stream",
     "text": [
      "Epoch 91, Discriminator Loss: -2.0089759826660156, Generator Loss: 1.903246521949768\n"
     ]
    },
    {
     "name": "stderr",
     "output_type": "stream",
     "text": [
      "100%|██████████| 35/35 [00:20<00:00,  1.68it/s]\n",
      "  0%|          | 0/35 [00:00<?, ?it/s]"
     ]
    },
    {
     "name": "stdout",
     "output_type": "stream",
     "text": [
      "Epoch 92, Discriminator Loss: -1.8946927785873413, Generator Loss: 2.6418371200561523\n"
     ]
    },
    {
     "name": "stderr",
     "output_type": "stream",
     "text": [
      "100%|██████████| 35/35 [00:20<00:00,  1.67it/s]\n",
      "  0%|          | 0/35 [00:00<?, ?it/s]"
     ]
    },
    {
     "name": "stdout",
     "output_type": "stream",
     "text": [
      "Epoch 93, Discriminator Loss: -1.9326534271240234, Generator Loss: 2.1756303310394287\n"
     ]
    },
    {
     "name": "stderr",
     "output_type": "stream",
     "text": [
      "100%|██████████| 35/35 [00:20<00:00,  1.68it/s]\n",
      "  0%|          | 0/35 [00:00<?, ?it/s]"
     ]
    },
    {
     "name": "stdout",
     "output_type": "stream",
     "text": [
      "Epoch 94, Discriminator Loss: -1.8319337368011475, Generator Loss: 2.7219762802124023\n"
     ]
    },
    {
     "name": "stderr",
     "output_type": "stream",
     "text": [
      "100%|██████████| 35/35 [00:20<00:00,  1.68it/s]\n",
      "  0%|          | 0/35 [00:00<?, ?it/s]"
     ]
    },
    {
     "name": "stdout",
     "output_type": "stream",
     "text": [
      "Epoch 95, Discriminator Loss: -2.224695920944214, Generator Loss: 3.7091665267944336\n"
     ]
    },
    {
     "name": "stderr",
     "output_type": "stream",
     "text": [
      "100%|██████████| 35/35 [00:20<00:00,  1.68it/s]\n",
      "  0%|          | 0/35 [00:00<?, ?it/s]"
     ]
    },
    {
     "name": "stdout",
     "output_type": "stream",
     "text": [
      "Epoch 96, Discriminator Loss: -2.155790328979492, Generator Loss: 1.3751925230026245\n"
     ]
    },
    {
     "name": "stderr",
     "output_type": "stream",
     "text": [
      "100%|██████████| 35/35 [00:20<00:00,  1.69it/s]\n",
      "  0%|          | 0/35 [00:00<?, ?it/s]"
     ]
    },
    {
     "name": "stdout",
     "output_type": "stream",
     "text": [
      "Epoch 97, Discriminator Loss: -2.79911470413208, Generator Loss: 2.7121410369873047\n"
     ]
    },
    {
     "name": "stderr",
     "output_type": "stream",
     "text": [
      "100%|██████████| 35/35 [00:20<00:00,  1.68it/s]\n",
      "  0%|          | 0/35 [00:00<?, ?it/s]"
     ]
    },
    {
     "name": "stdout",
     "output_type": "stream",
     "text": [
      "Epoch 98, Discriminator Loss: -2.4765841960906982, Generator Loss: 3.9087350368499756\n"
     ]
    },
    {
     "name": "stderr",
     "output_type": "stream",
     "text": [
      "100%|██████████| 35/35 [00:20<00:00,  1.68it/s]"
     ]
    },
    {
     "name": "stdout",
     "output_type": "stream",
     "text": [
      "Epoch 99, Discriminator Loss: -2.5740761756896973, Generator Loss: 6.513957500457764\n"
     ]
    },
    {
     "name": "stderr",
     "output_type": "stream",
     "text": [
      "\n"
     ]
    },
    {
     "data": {
      "text/plain": [
       "{'disc_loss': [<tf.Tensor: shape=(), dtype=float32, numpy=-24.757063>,\n",
       "  <tf.Tensor: shape=(), dtype=float32, numpy=-19.058731>,\n",
       "  <tf.Tensor: shape=(), dtype=float32, numpy=-9.069915>,\n",
       "  <tf.Tensor: shape=(), dtype=float32, numpy=-4.5353355>,\n",
       "  <tf.Tensor: shape=(), dtype=float32, numpy=-3.35874>,\n",
       "  <tf.Tensor: shape=(), dtype=float32, numpy=-2.408409>,\n",
       "  <tf.Tensor: shape=(), dtype=float32, numpy=-2.471446>,\n",
       "  <tf.Tensor: shape=(), dtype=float32, numpy=-2.5333552>,\n",
       "  <tf.Tensor: shape=(), dtype=float32, numpy=-2.5295823>,\n",
       "  <tf.Tensor: shape=(), dtype=float32, numpy=-2.3653004>,\n",
       "  <tf.Tensor: shape=(), dtype=float32, numpy=-2.5289297>,\n",
       "  <tf.Tensor: shape=(), dtype=float32, numpy=-2.1719997>,\n",
       "  <tf.Tensor: shape=(), dtype=float32, numpy=-2.0343616>,\n",
       "  <tf.Tensor: shape=(), dtype=float32, numpy=-2.360641>,\n",
       "  <tf.Tensor: shape=(), dtype=float32, numpy=-2.1465764>,\n",
       "  <tf.Tensor: shape=(), dtype=float32, numpy=-2.764278>,\n",
       "  <tf.Tensor: shape=(), dtype=float32, numpy=-2.8129983>,\n",
       "  <tf.Tensor: shape=(), dtype=float32, numpy=-3.0919666>,\n",
       "  <tf.Tensor: shape=(), dtype=float32, numpy=-2.4840114>,\n",
       "  <tf.Tensor: shape=(), dtype=float32, numpy=-3.1094184>,\n",
       "  <tf.Tensor: shape=(), dtype=float32, numpy=-6.877217>,\n",
       "  <tf.Tensor: shape=(), dtype=float32, numpy=-8.279871>,\n",
       "  <tf.Tensor: shape=(), dtype=float32, numpy=-5.0247107>,\n",
       "  <tf.Tensor: shape=(), dtype=float32, numpy=-5.8334374>,\n",
       "  <tf.Tensor: shape=(), dtype=float32, numpy=-4.459567>,\n",
       "  <tf.Tensor: shape=(), dtype=float32, numpy=-3.3475463>,\n",
       "  <tf.Tensor: shape=(), dtype=float32, numpy=-3.3571026>,\n",
       "  <tf.Tensor: shape=(), dtype=float32, numpy=-3.618894>,\n",
       "  <tf.Tensor: shape=(), dtype=float32, numpy=-4.0880275>,\n",
       "  <tf.Tensor: shape=(), dtype=float32, numpy=-3.8598433>,\n",
       "  <tf.Tensor: shape=(), dtype=float32, numpy=-3.5439603>,\n",
       "  <tf.Tensor: shape=(), dtype=float32, numpy=-3.8203995>,\n",
       "  <tf.Tensor: shape=(), dtype=float32, numpy=-3.3908646>,\n",
       "  <tf.Tensor: shape=(), dtype=float32, numpy=-3.652223>,\n",
       "  <tf.Tensor: shape=(), dtype=float32, numpy=-2.9399476>,\n",
       "  <tf.Tensor: shape=(), dtype=float32, numpy=-3.9032032>,\n",
       "  <tf.Tensor: shape=(), dtype=float32, numpy=-3.9303622>,\n",
       "  <tf.Tensor: shape=(), dtype=float32, numpy=-3.773875>,\n",
       "  <tf.Tensor: shape=(), dtype=float32, numpy=-2.8952484>,\n",
       "  <tf.Tensor: shape=(), dtype=float32, numpy=-2.7043314>,\n",
       "  <tf.Tensor: shape=(), dtype=float32, numpy=-3.97207>,\n",
       "  <tf.Tensor: shape=(), dtype=float32, numpy=-2.6096761>,\n",
       "  <tf.Tensor: shape=(), dtype=float32, numpy=-2.315558>,\n",
       "  <tf.Tensor: shape=(), dtype=float32, numpy=-2.5345576>,\n",
       "  <tf.Tensor: shape=(), dtype=float32, numpy=-2.1010509>,\n",
       "  <tf.Tensor: shape=(), dtype=float32, numpy=-2.6167305>,\n",
       "  <tf.Tensor: shape=(), dtype=float32, numpy=-2.4804738>,\n",
       "  <tf.Tensor: shape=(), dtype=float32, numpy=-3.0146413>,\n",
       "  <tf.Tensor: shape=(), dtype=float32, numpy=-1.9305334>,\n",
       "  <tf.Tensor: shape=(), dtype=float32, numpy=-2.8973105>,\n",
       "  <tf.Tensor: shape=(), dtype=float32, numpy=-2.731885>,\n",
       "  <tf.Tensor: shape=(), dtype=float32, numpy=-3.1648488>,\n",
       "  <tf.Tensor: shape=(), dtype=float32, numpy=-2.7243035>,\n",
       "  <tf.Tensor: shape=(), dtype=float32, numpy=-2.5750923>,\n",
       "  <tf.Tensor: shape=(), dtype=float32, numpy=-3.2945952>,\n",
       "  <tf.Tensor: shape=(), dtype=float32, numpy=-2.3660212>,\n",
       "  <tf.Tensor: shape=(), dtype=float32, numpy=-2.611802>,\n",
       "  <tf.Tensor: shape=(), dtype=float32, numpy=-2.4417913>,\n",
       "  <tf.Tensor: shape=(), dtype=float32, numpy=-2.5598805>,\n",
       "  <tf.Tensor: shape=(), dtype=float32, numpy=-1.8122394>,\n",
       "  <tf.Tensor: shape=(), dtype=float32, numpy=-2.149162>,\n",
       "  <tf.Tensor: shape=(), dtype=float32, numpy=-2.6325533>,\n",
       "  <tf.Tensor: shape=(), dtype=float32, numpy=-2.5932183>,\n",
       "  <tf.Tensor: shape=(), dtype=float32, numpy=-2.1517482>,\n",
       "  <tf.Tensor: shape=(), dtype=float32, numpy=-2.355591>,\n",
       "  <tf.Tensor: shape=(), dtype=float32, numpy=-1.6449499>,\n",
       "  <tf.Tensor: shape=(), dtype=float32, numpy=-2.3766844>,\n",
       "  <tf.Tensor: shape=(), dtype=float32, numpy=-1.8323171>,\n",
       "  <tf.Tensor: shape=(), dtype=float32, numpy=-2.2441494>,\n",
       "  <tf.Tensor: shape=(), dtype=float32, numpy=-1.807097>,\n",
       "  <tf.Tensor: shape=(), dtype=float32, numpy=-2.2568004>,\n",
       "  <tf.Tensor: shape=(), dtype=float32, numpy=-3.0651994>,\n",
       "  <tf.Tensor: shape=(), dtype=float32, numpy=-2.3565361>,\n",
       "  <tf.Tensor: shape=(), dtype=float32, numpy=-2.8033977>,\n",
       "  <tf.Tensor: shape=(), dtype=float32, numpy=-2.6897764>,\n",
       "  <tf.Tensor: shape=(), dtype=float32, numpy=-2.3461754>,\n",
       "  <tf.Tensor: shape=(), dtype=float32, numpy=-2.1432924>,\n",
       "  <tf.Tensor: shape=(), dtype=float32, numpy=-2.1524198>,\n",
       "  <tf.Tensor: shape=(), dtype=float32, numpy=-2.2983556>,\n",
       "  <tf.Tensor: shape=(), dtype=float32, numpy=-2.3762665>,\n",
       "  <tf.Tensor: shape=(), dtype=float32, numpy=-1.327411>,\n",
       "  <tf.Tensor: shape=(), dtype=float32, numpy=-2.763558>,\n",
       "  <tf.Tensor: shape=(), dtype=float32, numpy=-1.8026936>,\n",
       "  <tf.Tensor: shape=(), dtype=float32, numpy=-2.3172688>,\n",
       "  <tf.Tensor: shape=(), dtype=float32, numpy=-2.7892027>,\n",
       "  <tf.Tensor: shape=(), dtype=float32, numpy=-2.424874>,\n",
       "  <tf.Tensor: shape=(), dtype=float32, numpy=-2.471035>,\n",
       "  <tf.Tensor: shape=(), dtype=float32, numpy=-2.5034428>,\n",
       "  <tf.Tensor: shape=(), dtype=float32, numpy=-2.3223543>,\n",
       "  <tf.Tensor: shape=(), dtype=float32, numpy=-2.4904678>,\n",
       "  <tf.Tensor: shape=(), dtype=float32, numpy=-2.5730484>,\n",
       "  <tf.Tensor: shape=(), dtype=float32, numpy=-2.008976>,\n",
       "  <tf.Tensor: shape=(), dtype=float32, numpy=-1.8946928>,\n",
       "  <tf.Tensor: shape=(), dtype=float32, numpy=-1.9326534>,\n",
       "  <tf.Tensor: shape=(), dtype=float32, numpy=-1.8319337>,\n",
       "  <tf.Tensor: shape=(), dtype=float32, numpy=-2.224696>,\n",
       "  <tf.Tensor: shape=(), dtype=float32, numpy=-2.1557903>,\n",
       "  <tf.Tensor: shape=(), dtype=float32, numpy=-2.7991147>,\n",
       "  <tf.Tensor: shape=(), dtype=float32, numpy=-2.4765842>,\n",
       "  <tf.Tensor: shape=(), dtype=float32, numpy=-2.5740762>],\n",
       " 'gen_loss': [<tf.Tensor: shape=(), dtype=float32, numpy=34.203457>,\n",
       "  <tf.Tensor: shape=(), dtype=float32, numpy=28.83075>,\n",
       "  <tf.Tensor: shape=(), dtype=float32, numpy=10.910601>,\n",
       "  <tf.Tensor: shape=(), dtype=float32, numpy=5.1176176>,\n",
       "  <tf.Tensor: shape=(), dtype=float32, numpy=0.5652882>,\n",
       "  <tf.Tensor: shape=(), dtype=float32, numpy=0.9746794>,\n",
       "  <tf.Tensor: shape=(), dtype=float32, numpy=2.4227386>,\n",
       "  <tf.Tensor: shape=(), dtype=float32, numpy=1.9157495>,\n",
       "  <tf.Tensor: shape=(), dtype=float32, numpy=2.4619617>,\n",
       "  <tf.Tensor: shape=(), dtype=float32, numpy=3.2988532>,\n",
       "  <tf.Tensor: shape=(), dtype=float32, numpy=2.7009547>,\n",
       "  <tf.Tensor: shape=(), dtype=float32, numpy=3.5190663>,\n",
       "  <tf.Tensor: shape=(), dtype=float32, numpy=3.8646295>,\n",
       "  <tf.Tensor: shape=(), dtype=float32, numpy=4.279165>,\n",
       "  <tf.Tensor: shape=(), dtype=float32, numpy=3.7360518>,\n",
       "  <tf.Tensor: shape=(), dtype=float32, numpy=6.989729>,\n",
       "  <tf.Tensor: shape=(), dtype=float32, numpy=6.0824533>,\n",
       "  <tf.Tensor: shape=(), dtype=float32, numpy=6.469059>,\n",
       "  <tf.Tensor: shape=(), dtype=float32, numpy=5.8535056>,\n",
       "  <tf.Tensor: shape=(), dtype=float32, numpy=8.262032>,\n",
       "  <tf.Tensor: shape=(), dtype=float32, numpy=9.356369>,\n",
       "  <tf.Tensor: shape=(), dtype=float32, numpy=8.947834>,\n",
       "  <tf.Tensor: shape=(), dtype=float32, numpy=11.388216>,\n",
       "  <tf.Tensor: shape=(), dtype=float32, numpy=10.301114>,\n",
       "  <tf.Tensor: shape=(), dtype=float32, numpy=7.900074>,\n",
       "  <tf.Tensor: shape=(), dtype=float32, numpy=8.25717>,\n",
       "  <tf.Tensor: shape=(), dtype=float32, numpy=5.510361>,\n",
       "  <tf.Tensor: shape=(), dtype=float32, numpy=3.7007668>,\n",
       "  <tf.Tensor: shape=(), dtype=float32, numpy=4.130952>,\n",
       "  <tf.Tensor: shape=(), dtype=float32, numpy=6.24522>,\n",
       "  <tf.Tensor: shape=(), dtype=float32, numpy=4.878844>,\n",
       "  <tf.Tensor: shape=(), dtype=float32, numpy=6.057976>,\n",
       "  <tf.Tensor: shape=(), dtype=float32, numpy=6.9374228>,\n",
       "  <tf.Tensor: shape=(), dtype=float32, numpy=5.4520555>,\n",
       "  <tf.Tensor: shape=(), dtype=float32, numpy=4.6027975>,\n",
       "  <tf.Tensor: shape=(), dtype=float32, numpy=5.439217>,\n",
       "  <tf.Tensor: shape=(), dtype=float32, numpy=5.368123>,\n",
       "  <tf.Tensor: shape=(), dtype=float32, numpy=5.559556>,\n",
       "  <tf.Tensor: shape=(), dtype=float32, numpy=4.4419537>,\n",
       "  <tf.Tensor: shape=(), dtype=float32, numpy=3.722921>,\n",
       "  <tf.Tensor: shape=(), dtype=float32, numpy=5.5514817>,\n",
       "  <tf.Tensor: shape=(), dtype=float32, numpy=4.9361115>,\n",
       "  <tf.Tensor: shape=(), dtype=float32, numpy=3.4724889>,\n",
       "  <tf.Tensor: shape=(), dtype=float32, numpy=7.640801>,\n",
       "  <tf.Tensor: shape=(), dtype=float32, numpy=5.7221074>,\n",
       "  <tf.Tensor: shape=(), dtype=float32, numpy=4.240379>,\n",
       "  <tf.Tensor: shape=(), dtype=float32, numpy=3.5804653>,\n",
       "  <tf.Tensor: shape=(), dtype=float32, numpy=4.447286>,\n",
       "  <tf.Tensor: shape=(), dtype=float32, numpy=1.7643595>,\n",
       "  <tf.Tensor: shape=(), dtype=float32, numpy=3.9617858>,\n",
       "  <tf.Tensor: shape=(), dtype=float32, numpy=5.486584>,\n",
       "  <tf.Tensor: shape=(), dtype=float32, numpy=4.065773>,\n",
       "  <tf.Tensor: shape=(), dtype=float32, numpy=5.885113>,\n",
       "  <tf.Tensor: shape=(), dtype=float32, numpy=3.9353817>,\n",
       "  <tf.Tensor: shape=(), dtype=float32, numpy=0.22581908>,\n",
       "  <tf.Tensor: shape=(), dtype=float32, numpy=1.7009912>,\n",
       "  <tf.Tensor: shape=(), dtype=float32, numpy=4.118476>,\n",
       "  <tf.Tensor: shape=(), dtype=float32, numpy=4.2706985>,\n",
       "  <tf.Tensor: shape=(), dtype=float32, numpy=4.55009>,\n",
       "  <tf.Tensor: shape=(), dtype=float32, numpy=3.3228168>,\n",
       "  <tf.Tensor: shape=(), dtype=float32, numpy=5.4111943>,\n",
       "  <tf.Tensor: shape=(), dtype=float32, numpy=5.3566318>,\n",
       "  <tf.Tensor: shape=(), dtype=float32, numpy=4.0628605>,\n",
       "  <tf.Tensor: shape=(), dtype=float32, numpy=5.5436244>,\n",
       "  <tf.Tensor: shape=(), dtype=float32, numpy=2.6945984>,\n",
       "  <tf.Tensor: shape=(), dtype=float32, numpy=1.7928964>,\n",
       "  <tf.Tensor: shape=(), dtype=float32, numpy=1.9237757>,\n",
       "  <tf.Tensor: shape=(), dtype=float32, numpy=3.5799384>,\n",
       "  <tf.Tensor: shape=(), dtype=float32, numpy=4.088317>,\n",
       "  <tf.Tensor: shape=(), dtype=float32, numpy=4.473672>,\n",
       "  <tf.Tensor: shape=(), dtype=float32, numpy=2.7587893>,\n",
       "  <tf.Tensor: shape=(), dtype=float32, numpy=3.2456841>,\n",
       "  <tf.Tensor: shape=(), dtype=float32, numpy=1.4483298>,\n",
       "  <tf.Tensor: shape=(), dtype=float32, numpy=4.77009>,\n",
       "  <tf.Tensor: shape=(), dtype=float32, numpy=5.7126346>,\n",
       "  <tf.Tensor: shape=(), dtype=float32, numpy=2.792629>,\n",
       "  <tf.Tensor: shape=(), dtype=float32, numpy=0.7182559>,\n",
       "  <tf.Tensor: shape=(), dtype=float32, numpy=3.3728085>,\n",
       "  <tf.Tensor: shape=(), dtype=float32, numpy=2.1976552>,\n",
       "  <tf.Tensor: shape=(), dtype=float32, numpy=3.6698763>,\n",
       "  <tf.Tensor: shape=(), dtype=float32, numpy=1.1381279>,\n",
       "  <tf.Tensor: shape=(), dtype=float32, numpy=2.0408032>,\n",
       "  <tf.Tensor: shape=(), dtype=float32, numpy=3.0708878>,\n",
       "  <tf.Tensor: shape=(), dtype=float32, numpy=1.1630628>,\n",
       "  <tf.Tensor: shape=(), dtype=float32, numpy=1.7990235>,\n",
       "  <tf.Tensor: shape=(), dtype=float32, numpy=0.7497434>,\n",
       "  <tf.Tensor: shape=(), dtype=float32, numpy=2.697747>,\n",
       "  <tf.Tensor: shape=(), dtype=float32, numpy=3.9672363>,\n",
       "  <tf.Tensor: shape=(), dtype=float32, numpy=2.1086578>,\n",
       "  <tf.Tensor: shape=(), dtype=float32, numpy=2.7537835>,\n",
       "  <tf.Tensor: shape=(), dtype=float32, numpy=1.143837>,\n",
       "  <tf.Tensor: shape=(), dtype=float32, numpy=1.9032465>,\n",
       "  <tf.Tensor: shape=(), dtype=float32, numpy=2.6418371>,\n",
       "  <tf.Tensor: shape=(), dtype=float32, numpy=2.1756303>,\n",
       "  <tf.Tensor: shape=(), dtype=float32, numpy=2.7219763>,\n",
       "  <tf.Tensor: shape=(), dtype=float32, numpy=3.7091665>,\n",
       "  <tf.Tensor: shape=(), dtype=float32, numpy=1.3751925>,\n",
       "  <tf.Tensor: shape=(), dtype=float32, numpy=2.712141>,\n",
       "  <tf.Tensor: shape=(), dtype=float32, numpy=3.908735>,\n",
       "  <tf.Tensor: shape=(), dtype=float32, numpy=6.5139575>]}"
      ]
     },
     "execution_count": 4,
     "metadata": {},
     "output_type": "execute_result"
    }
   ],
   "source": [
    "wpgan = WPGAN()\n",
    "wpgan.train(dataset, epochs=100)"
   ]
  },
  {
   "cell_type": "code",
   "execution_count": 25,
   "metadata": {},
   "outputs": [
    {
     "data": {
      "text/plain": [
       "[<matplotlib.lines.Line2D at 0x2170aac6340>]"
      ]
     },
     "execution_count": 25,
     "metadata": {},
     "output_type": "execute_result"
    },
    {
     "data": {
      "image/png": "[encoded data removed]",
      "text/plain": [
       "<Figure size 432x288 with 1 Axes>"
      ]
     },
     "metadata": {
      "needs_background": "light"
     },
     "output_type": "display_data"
    }
   ],
   "source": [
    "noise = tf.random.normal([1, 100])\n",
    "generated_audio = wpgan.generator(noise, training=False)\n",
    "audio = generated_audio[0,:,0]\n",
    "plt.plot(audio)"
   ]
  },
  {
   "cell_type": "code",
   "execution_count": 26,
   "metadata": {},
   "outputs": [
    {
     "data": {
      "text/html": [
       "\n",
       "                <audio  controls=\"controls\" >\n",
       "                    <source src=\"data:audio/wav;base64,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\" type=\"audio/wav\" />\n",
       "                    Your browser does not support the audio element.\n",
       "                </audio>\n",
       "              "
      ],
      "text/plain": [
       "<IPython.lib.display.Audio object>"
      ]
     },
     "execution_count": 26,
     "metadata": {},
     "output_type": "execute_result"
    }
   ],
   "source": [
    "ipd.Audio(audio, rate=16000)"
   ]
  },
  {
   "cell_type": "code",
   "execution_count": 23,
   "metadata": {},
   "outputs": [
    {
     "data": {
      "text/plain": [
       "[<matplotlib.lines.Line2D at 0x2170aa67700>]"
      ]
     },
     "execution_count": 23,
     "metadata": {},
     "output_type": "execute_result"
    },
    {
     "data": {
      "image/png": "[encoded data removed]",
      "text/plain": [
       "<Figure size 432x288 with 1 Axes>"
      ]
     },
     "metadata": {
      "needs_background": "light"
     },
     "output_type": "display_data"
    }
   ],
   "source": [
    "noise = tf.random.normal([1, 100])\n",
    "generated_audio = gan.generator(noise, training=False)\n",
    "audio = generated_audio[0,:,0]\n",
    "plt.plot(audio)"
   ]
  },
  {
   "cell_type": "code",
   "execution_count": 24,
   "metadata": {},
   "outputs": [
    {
     "data": {
      "text/html": [
       "\n",
       "                <audio  controls=\"controls\" >\n",
       "                    <source src=\"data:audio/wav;base64,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\" type=\"audio/wav\" />\n",
       "                    Your browser does not support the audio element.\n",
       "                </audio>\n",
       "              "
      ],
      "text/plain": [
       "<IPython.lib.display.Audio object>"
      ]
     },
     "execution_count": 24,
     "metadata": {},
     "output_type": "execute_result"
    }
   ],
   "source": [
    "ipd.Audio(audio, rate=16000)"
   ]
  },
  {
   "cell_type": "code",
   "execution_count": 29,
   "metadata": {},
   "outputs": [
    {
     "data": {
      "image/png": "[encoded data removed]",
      "text/plain": [
       "<Figure size 432x288 with 1 Axes>"
      ]
     },
     "metadata": {
      "needs_background": "light"
     },
     "output_type": "display_data"
    }
   ],
   "source": [
    "plt.plot(gan.history['disc_loss'], label=\"Disc. Loss\")\n",
    "plt.plot(gan.history['gen_loss'], label=\"Gen. Loss\")\n",
    "plt.xlabel(\"Epochs\")\n",
    "plt.ylabel(\"Loss\")\n",
    "plt.legend()\n",
    "plt.savefig(\"figures/snares_dcgan_loss_0725.png\", dpi=300)"
   ]
  },
  {
   "cell_type": "code",
   "execution_count": 30,
   "metadata": {},
   "outputs": [
    {
     "data": {
      "image/png": "[encoded data removed]",
      "text/plain": [
       "<Figure size 432x288 with 1 Axes>"
      ]
     },
     "metadata": {
      "needs_background": "light"
     },
     "output_type": "display_data"
    }
   ],
   "source": [
    "plt.plot(wpgan.history['disc_loss'], label=\"Disc. Loss\")\n",
    "plt.plot(wpgan.history['gen_loss'], label=\"Gen. Loss\")\n",
    "plt.xlabel(\"Epochs\")\n",
    "plt.ylabel(\"Loss\")\n",
    "plt.legend()\n",
    "plt.savefig(\"figures/snares_wpgan_loss_0725.png\", dpi=300)"
   ]
  },
  {
   "cell_type": "code",
   "execution_count": null,
   "metadata": {},
   "outputs": [],
   "source": []
  }
 ],
 "metadata": {
  "kernelspec": {
   "display_name": "Python 3",
   "language": "python",
   "name": "python3"
  },
  "language_info": {
   "codemirror_mode": {
    "name": "ipython",
    "version": 3
   },
   "file_extension": ".py",
   "mimetype": "text/x-python",
   "name": "python",
   "nbconvert_exporter": "python",
   "pygments_lexer": "ipython3",
   "version": "3.8.3"
  }
 },
 "nbformat": 4,
 "nbformat_minor": 4
}
